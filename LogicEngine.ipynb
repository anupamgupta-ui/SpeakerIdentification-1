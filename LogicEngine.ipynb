{
 "cells": [
  {
   "cell_type": "code",
   "execution_count": 1,
   "metadata": {},
   "outputs": [],
   "source": [
    "%load_ext autoreload\n",
    "%autoreload 1\n",
    "\n",
    "import sys\n",
    "sys.path.insert(0, 'src')\n",
    "\n",
    "%aimport logic_engine"
   ]
  },
  {
   "cell_type": "code",
   "execution_count": 5,
   "metadata": {},
   "outputs": [],
   "source": [
    "LogicEngine = logic_engine.LogicEngine"
   ]
  },
  {
   "cell_type": "code",
   "execution_count": 6,
   "metadata": {},
   "outputs": [],
   "source": [
    "rules = \"\"\"\n",
    "son(X,Y):-child(X,Y),male(X).\n",
    "father(X,Y):-parent(X,Y),male(X).\n",
    "daughter(X,Y):-child(X,Y),female(X).\n",
    "\n",
    "child(X,Y):-parent(Y,X).\n",
    "parent(X,Y):-child(Y,X).\n",
    "\n",
    "father(X,Y):-mother(Mother,Y),husband(X,Mother).\n",
    "mother(X,Y):-parent(X,Y),female(X).\n",
    "\n",
    "mother(X,Y):-father(Father,Y),wife(X,Father).\n",
    "\n",
    "wife(X,Y):-married(X,Y),female(X).\n",
    "husband(X,Y):-married(X,Y),male(X).\n",
    "married(X, Y):-mother(X, Z),father(Y,Z).\n",
    "\n",
    "parent(X,Y):-siblings(Y,Z),parent(X,Z).\n",
    "\n",
    "brother(X,Y):-siblings(X,Y),male(X).\n",
    "sister(X,Y):-siblings(X,Y),female(X).\n",
    "\n",
    "married(X, Y):-married(Y, X).\n",
    "siblings(X,Y):-siblings(Y,X).\n",
    "siblings(X,Y):-siblings(X,Z),siblings(Z,Y),diff(X,Y).\n",
    "\n",
    "\n",
    "bro_in_law(X,Y):-married(Y,Z),brother(X,Z).\n",
    "bro_in_law(X,Y):-sister(Z,Y),husband(X,Z).\n",
    "bro_in_law(X,Y):-married(Y,Z),sister(S,Z),husband(X,S).\n",
    "\n",
    "sis_in_law(X,Y):-married(Y,Z),sister(X,Z).\n",
    "sis_in_law(X,Y):-brother(Z,Y),wife(X,Z).\n",
    "sis_in_law(X,Y):-married(Y,Z),brother(S,Z),wife(X,S).\n",
    "\n",
    "grandparent(X,Y):-parent(X,Z),parent(Z,Y).\n",
    "grandfather(X,Y):-grandparent(X,Y),male(X).\n",
    "grandmother(X,Y):-grandparent(X,Y),female(X).\n",
    "\n",
    "aunt(X,Y):-parent(Z,Y),sister(X,Z).\n",
    "aunt(X,Y):-parent(Z,Y),brother(S,Z),wife(X,S).\n",
    "\n",
    "uncle(X,Y):-parent(Z,Y),brother(X,Z).\n",
    "uncle(X,Y):-parent(Z,Y),sister(S,Z),husband(X,S).\n",
    "\"\"\""
   ]
  },
  {
   "cell_type": "code",
   "execution_count": 7,
   "metadata": {},
   "outputs": [],
   "source": [
    "facts = \"\"\"\n",
    "female(elizabeth).\n",
    "female(jane).\n",
    "female(mary).\n",
    "female(lydia).\n",
    "female(kitty)\n",
    "female(miss_bingley).\n",
    "male(mr_bingley).\n",
    "male(mr_bennet).\n",
    "male(mr_collins).\n",
    "female(charlotte).\n",
    "female(mrs_bennet).\n",
    "\n",
    "parent(mr_bennet, elizabeth).\n",
    "mother(mrs_bennet, elizabeth).\n",
    "siblings(elizabeth, jane).\n",
    "siblings(elizabeth, mary).\n",
    "siblings(elizabeth, lydia).\n",
    "siblings(elizabeth, kitty).\n",
    "\n",
    "siblings(mr_bennet, mr_collins).\n",
    "siblings(mr_bingley, miss_bingley).\n",
    "married(mr_collins, charlotte).\n",
    "\"\"\""
   ]
  },
  {
   "cell_type": "code",
   "execution_count": 8,
   "metadata": {},
   "outputs": [
    {
     "name": "stdout",
     "output_type": "stream",
     "text": [
      "Defined 22 properties for 11 entities, and 52 operations\n"
     ]
    }
   ],
   "source": [
    "engine = LogicEngine(rules, facts, reciprocal=True)"
   ]
  },
  {
   "cell_type": "code",
   "execution_count": 9,
   "metadata": {},
   "outputs": [
    {
     "name": "stdout",
     "output_type": "stream",
     "text": [
      "Total: 0.0690s\n",
      "Stopped after 4 iterations\n"
     ]
    }
   ],
   "source": [
    "engine.run()"
   ]
  },
  {
   "cell_type": "code",
   "execution_count": 17,
   "metadata": {},
   "outputs": [
    {
     "data": {
      "text/plain": [
       "[{'X': 'charlotte', 'Z': 'mr_collins'}]"
      ]
     },
     "execution_count": 17,
     "metadata": {},
     "output_type": "execute_result"
    }
   ],
   "source": [
    "engine.query('aunt(X, lydia),married(X, Z).')"
   ]
  },
  {
   "cell_type": "code",
   "execution_count": null,
   "metadata": {},
   "outputs": [],
   "source": []
  }
 ],
 "metadata": {
  "kernelspec": {
   "display_name": "Python [default]",
   "language": "python",
   "name": "python3"
  },
  "language_info": {
   "codemirror_mode": {
    "name": "ipython",
    "version": 3
   },
   "file_extension": ".py",
   "mimetype": "text/x-python",
   "name": "python",
   "nbconvert_exporter": "python",
   "pygments_lexer": "ipython3",
   "version": "3.5.4"
  }
 },
 "nbformat": 4,
 "nbformat_minor": 2
}

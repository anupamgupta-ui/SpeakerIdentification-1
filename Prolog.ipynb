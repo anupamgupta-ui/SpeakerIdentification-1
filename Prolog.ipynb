{
 "cells": [
  {
   "cell_type": "code",
   "execution_count": 3,
   "metadata": {},
   "outputs": [],
   "source": [
    "from prolog "
   ]
  },
  {
   "cell_type": "code",
   "execution_count": 4,
   "metadata": {},
   "outputs": [],
   "source": [
    "if \"prolog\" in globals() and not prolog.closed:\n",
    "    prolog.close()\n",
    "prolog = Prolog('./family.pl')\n",
    "prolog.run()"
   ]
  },
  {
   "cell_type": "code",
   "execution_count": 5,
   "metadata": {},
   "outputs": [
    {
     "name": "stdout",
     "output_type": "stream",
     "text": [
      "3\n",
      "BEFORE\n",
      "'daughter(lizzy, Y)\\x08\\x08\\x08\\x08\\x08\\x08\\x08\\x08\\x08\\x08(lizzy, Y).\\r\\n'\n",
      "daughter(lizzy, Y)\b\b\b\b\b\b\b\b\b\b(lizzy, Y).\r\n",
      "\n",
      "AFTER\n",
      "'Y = mrsbennet '\n",
      "Y = mrsbennet \n",
      "2\n",
      "BEFORE\n",
      "'\\x1b[1m;\\x1b[0m\\r\\n'\n",
      "\u001b[1m;\u001b[0m\r\n",
      "\n",
      "AFTER\n",
      "'Y = mrbennet.\\r\\n\\r\\n?- '\n",
      "Y = mrbennet.\r\n",
      "\r\n",
      "?- \n",
      "{'Y': {'mrsbennet', 'mrbennet'}}\n"
     ]
    }
   ],
   "source": [
    "print(prolog.query(\"daughter(lizzy, Y).\", debug=True))"
   ]
  },
  {
   "cell_type": "code",
   "execution_count": 12,
   "metadata": {},
   "outputs": [
    {
     "data": {
      "text/plain": [
       "True"
      ]
     },
     "execution_count": 12,
     "metadata": {},
     "output_type": "execute_result"
    }
   ],
   "source": [
    "prolog.query(\"daughter(lizzy, mrbennet).\")"
   ]
  },
  {
   "cell_type": "code",
   "execution_count": 10,
   "metadata": {},
   "outputs": [
    {
     "data": {
      "text/plain": [
       "False"
      ]
     },
     "execution_count": 10,
     "metadata": {},
     "output_type": "execute_result"
    }
   ],
   "source": [
    "prolog.query(\"daughter(mrsbennet, mrbennet).\")"
   ]
  }
 ],
 "metadata": {
  "anaconda-cloud": {},
  "kernelspec": {
   "display_name": "Python [default]",
   "language": "python",
   "name": "python3"
  }
 },
 "nbformat": 4,
 "nbformat_minor": 1
}

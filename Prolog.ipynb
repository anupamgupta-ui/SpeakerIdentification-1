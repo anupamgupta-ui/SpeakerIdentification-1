{
 "cells": [
  {
   "cell_type": "code",
   "execution_count": 3,
   "metadata": {},
   "outputs": [
    {
     "ename": "ModuleNotFoundError",
     "evalue": "No module named 'pexpect'",
     "output_type": "error",
     "traceback": [
      "\u001b[1;31m---------------------------------------------------------------------------\u001b[0m",
      "\u001b[1;31mModuleNotFoundError\u001b[0m                       Traceback (most recent call last)",
      "\u001b[1;32m<ipython-input-3-24ac88b07074>\u001b[0m in \u001b[0;36m<module>\u001b[1;34m()\u001b[0m\n\u001b[1;32m----> 1\u001b[1;33m \u001b[1;32mimport\u001b[0m \u001b[0mprolog\u001b[0m\u001b[1;33m\u001b[0m\u001b[0m\n\u001b[0m",
      "\u001b[1;32mD:\\Users\\ZorkroZ\\Documents\\SI\\AIC\\Structured\\Speaker_Identification\\prolog.py\u001b[0m in \u001b[0;36m<module>\u001b[1;34m()\u001b[0m\n\u001b[1;32m----> 1\u001b[1;33m \u001b[1;32mimport\u001b[0m \u001b[0mpexpect\u001b[0m\u001b[1;33m\u001b[0m\u001b[0m\n\u001b[0m\u001b[0;32m      2\u001b[0m \u001b[1;33m\u001b[0m\u001b[0m\n\u001b[0;32m      3\u001b[0m \u001b[1;32mimport\u001b[0m \u001b[0mre\u001b[0m\u001b[1;33m\u001b[0m\u001b[0m\n\u001b[0;32m      4\u001b[0m \u001b[1;33m\u001b[0m\u001b[0m\n\u001b[0;32m      5\u001b[0m \u001b[0mMAP_REGEX\u001b[0m \u001b[1;33m=\u001b[0m \u001b[1;34m\"([A-Z]+) = (\\w+)\"\u001b[0m\u001b[1;33m\u001b[0m\u001b[0m\n",
      "\u001b[1;31mModuleNotFoundError\u001b[0m: No module named 'pexpect'"
     ]
    }
   ],
   "source": [
    "import prolog "
   ]
  },
  {
   "cell_type": "code",
   "execution_count": 4,
   "metadata": {
    "collapsed": true
   },
   "outputs": [],
   "source": [
    "if \"prolog\" in globals() and not prolog.closed:\n",
    "    prolog.close()\n",
    "prolog = Prolog('./family.pl')\n",
    "prolog.run()"
   ]
  },
  {
   "cell_type": "code",
   "execution_count": 5,
   "metadata": {},
   "outputs": [
    {
     "name": "stdout",
     "output_type": "stream",
     "text": [
      "3\n",
      "BEFORE\n",
      "'daughter(lizzy, Y)\\x08\\x08\\x08\\x08\\x08\\x08\\x08\\x08\\x08\\x08(lizzy, Y).\\r\\n'\n",
      "daughter(lizzy, Y)\b\b\b\b\b\b\b\b\b\b(lizzy, Y).\r\n",
      "\n",
      "AFTER\n",
      "'Y = mrsbennet '\n",
      "Y = mrsbennet \n",
      "2\n",
      "BEFORE\n",
      "'\\x1b[1m;\\x1b[0m\\r\\n'\n",
      "\u001b[1m;\u001b[0m\r\n",
      "\n",
      "AFTER\n",
      "'Y = mrbennet.\\r\\n\\r\\n?- '\n",
      "Y = mrbennet.\r\n",
      "\r\n",
      "?- \n",
      "{'Y': {'mrsbennet', 'mrbennet'}}\n"
     ]
    }
   ],
   "source": [
    "print(prolog.query(\"daughter(lizzy, Y).\", debug=True))"
   ]
  },
  {
   "cell_type": "code",
   "execution_count": 12,
   "metadata": {},
   "outputs": [
    {
     "data": {
      "text/plain": [
       "True"
      ]
     },
     "execution_count": 12,
     "metadata": {},
     "output_type": "execute_result"
    }
   ],
   "source": [
    "prolog.query(\"daughter(lizzy, mrbennet).\")"
   ]
  },
  {
   "cell_type": "code",
   "execution_count": 10,
   "metadata": {},
   "outputs": [
    {
     "data": {
      "text/plain": [
       "False"
      ]
     },
     "execution_count": 10,
     "metadata": {},
     "output_type": "execute_result"
    }
   ],
   "source": [
    "prolog.query(\"daughter(mrsbennet, mrbennet).\")"
   ]
  }
 ],
 "metadata": {
  "anaconda-cloud": {},
  "kernelspec": {
   "display_name": "Python 3",
   "language": "python",
   "name": "python3"
  },
  "language_info": {
   "codemirror_mode": {
    "name": "ipython",
    "version": 3
   },
   "file_extension": ".py",
   "mimetype": "text/x-python",
   "name": "python",
   "nbconvert_exporter": "python",
   "pygments_lexer": "ipython3",
   "version": "3.6.1"
  }
 },
 "nbformat": 4,
 "nbformat_minor": 1
}

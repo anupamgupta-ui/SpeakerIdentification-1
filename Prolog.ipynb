{
 "cells": [
  {
   "cell_type": "code",
   "execution_count": 185,
   "metadata": {},
   "outputs": [
    {
     "data": {
      "text/plain": [
       "0"
      ]
     },
     "execution_count": 185,
     "metadata": {},
     "output_type": "execute_result"
    }
   ],
   "source": [
    "import pexpect\n",
    "\n",
    "if c in globals():\n",
    "    c.close()\n",
    "c = pexpect.spawnu('/usr/bin/env swipl ./family.pl')\n",
    "\n",
    "c.expect(\"\\n\\?- \", timeout=5)"
   ]
  },
  {
   "cell_type": "code",
   "execution_count": null,
   "metadata": {
    "collapsed": true
   },
   "outputs": [],
   "source": [
    "c."
   ]
  },
  {
   "cell_type": "code",
   "execution_count": 159,
   "metadata": {
    "collapsed": true
   },
   "outputs": [],
   "source": [
    "import re"
   ]
  },
  {
   "cell_type": "code",
   "execution_count": 186,
   "metadata": {},
   "outputs": [],
   "source": [
    "MAP_REGEX = \"([A-Z]+) = (\\w+)\"\n",
    "\n",
    "def query(s, debug=False, newline=True):\n",
    "    if newline:\n",
    "        c.sendline(s)\n",
    "    else:\n",
    "        c.send(s)\n",
    "    i = c.expect([\"\\..*?true.*\\?- \",\n",
    "                  \"\\..*?false.*\\?- \",\n",
    "                  \"([A-Z]+) = (\\w+)\\..*\\?- \",\n",
    "                  \"([A-Z]+) = (\\w+) \",\n",
    "                  \"\\?- \", pexpect.TIMEOUT], timeout=2)\n",
    "    if (debug):\n",
    "        print(i)\n",
    "        print(\"BEFORE\")\n",
    "        print(repr(c.before))\n",
    "        print(c.before)\n",
    "        print(\"AFTER\")\n",
    "        print(repr(c.after))\n",
    "        print(c.after)\n",
    "    if i == 2 or i == 3:\n",
    "        res = {}\n",
    "        for var_map in re.findall(MAP_REGEX, c.before+c.after):\n",
    "            res[var_map[0]] = {var_map[1]};\n",
    "        if i == 3:\n",
    "            next_query = query(\";\", debug=debug, newline=False)\n",
    "            if next_query is False:\n",
    "                return res\n",
    "            for key, values in next_query.items():\n",
    "                res[key] = values | res.get(key, set())\n",
    "        return res\n",
    "    if i == 0 or i == 1:\n",
    "        if debug:\n",
    "            print(\"FINALY\")\n",
    "            print(repr(c.before))\n",
    "    \n",
    "    return i==0"
   ]
  },
  {
   "cell_type": "code",
   "execution_count": 197,
   "metadata": {},
   "outputs": [
    {
     "name": "stdout",
     "output_type": "stream",
     "text": [
      "{'Y': {'mrsbennet', 'mrbennet'}, 'X': {'lizzy'}}\n",
      "True\n",
      "False\n"
     ]
    }
   ],
   "source": [
    "print(query(\"daughter(X, Y).\", debug=False))\n",
    "print(query(\"daughter(lizzy, mrbennet).\", debug=False))\n",
    "print(query(\"daughter(mrsbennet, mrbennet).\", debug=False))"
   ]
  },
  {
   "cell_type": "code",
   "execution_count": 117,
   "metadata": {},
   "outputs": [
    {
     "name": "stdout",
     "output_type": "stream",
     "text": [
      ".\u001b[0m\r\n",
      "\r\n",
      "\n"
     ]
    }
   ],
   "source": [
    "print(c.before)"
   ]
  },
  {
   "cell_type": "code",
   "execution_count": 195,
   "metadata": {},
   "outputs": [
    {
     "name": "stdout",
     "output_type": "stream",
     "text": [
      "{'Y': {'mrsbennet', 'mrbennet'}}\n"
     ]
    }
   ],
   "source": [
    "print(query(\"daughter(lizzy, Y).\", debug=False))"
   ]
  },
  {
   "cell_type": "code",
   "execution_count": null,
   "metadata": {
    "collapsed": true
   },
   "outputs": [],
   "source": []
  }
 ],
 "metadata": {
  "anaconda-cloud": {},
  "kernelspec": {
   "display_name": "Python [default]",
   "language": "python",
   "name": "python3"
  },
  "language_info": {
   "codemirror_mode": {
    "name": "ipython",
    "version": 3
   },
   "file_extension": ".py",
   "mimetype": "text/x-python",
   "name": "python",
   "nbconvert_exporter": "python",
   "pygments_lexer": "ipython3",
   "version": "3.5.4"
  }
 },
 "nbformat": 4,
 "nbformat_minor": 1
}

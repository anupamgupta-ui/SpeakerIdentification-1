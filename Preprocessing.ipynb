{
 "cells": [
  {
   "cell_type": "markdown",
   "metadata": {},
   "source": [
    "### Dataset preprocessing\n",
    "Process the text to extract utterances and non-utterances and match the samples with the labelled dataset"
   ]
  },
  {
   "cell_type": "code",
   "execution_count": 1,
   "metadata": {
    "collapsed": true
   },
   "outputs": [],
   "source": [
    "import re\n",
    "import pickle"
   ]
  },
  {
   "cell_type": "markdown",
   "metadata": {},
   "source": [
    "#### Book utterances and non-utterances extraction"
   ]
  },
  {
   "cell_type": "code",
   "execution_count": 2,
   "metadata": {
    "collapsed": true
   },
   "outputs": [],
   "source": [
    "from src.character import characters\n",
    "from src.curation import curation\n",
    "\n",
    "curation(characters)"
   ]
  },
  {
   "cell_type": "code",
   "execution_count": 3,
   "metadata": {
    "collapsed": true
   },
   "outputs": [],
   "source": [
    "with open('corpus/curated_text.txt', 'r+') as raw_text_file:\n",
    "    # go through all lines in the book\n",
    "    text = raw_text_file.read()"
   ]
  },
  {
   "cell_type": "code",
   "execution_count": 4,
   "metadata": {
    "collapsed": true
   },
   "outputs": [],
   "source": [
    "annotations = []\n",
    "is_utterance = False\n",
    "processed = \"\"\n",
    "source = \"\"\n",
    "sample_parts = []\n",
    "text = re.sub(' +', ' ', \" \"+text) \n",
    "parts = list(p for p in re.split(\"(``)|('')\", text) if p is not None)\n",
    "i = 0\n",
    "next_quote_doesnt_count = False\n",
    "while i < len(parts):\n",
    "    part = parts[i]\n",
    "    if part == '``' or part == \"''\":\n",
    "        is_utterance = part == '``'\n",
    "        source += part\n",
    "        i += 1\n",
    "        continue\n",
    "    if not is_utterance:\n",
    "        if \"\\n\\n\" in part: # before or after an utterance\n",
    "            lines = part.split(\"\\n\\n\")\n",
    "            if processed != \"\":\n",
    "                if lines[0] != \"\":\n",
    "                    sample_parts.append({\"text\": lines[0], \"utterance\": False})\n",
    "                source += lines[0]\n",
    "                if processed[-5:] == \" [X] \":\n",
    "                    processed = processed[:-5]\n",
    "                if processed != \"\":\n",
    "                    annotations.append({\n",
    "                        \"only_utterance_us\": processed,\n",
    "                        \"source\": source,\n",
    "                        \"parts\": sample_parts\n",
    "                    })\n",
    "            processed = \"\"\n",
    "            if lines[-1] != \"\":\n",
    "                sample_parts = [({\"text\": lines[-1], \"utterance\": False})]\n",
    "            else:\n",
    "                sample_parts = []\n",
    "            source = lines[-1]\n",
    "        else: # in the middle of an utterance\n",
    "            sample_parts.append({\"text\": part, \"utterance\": False})\n",
    "            source += part\n",
    "            if part != \" -- \":\n",
    "                if processed[-5:] != \" [X] \":\n",
    "                    processed += \" [X] \"\n",
    "            else:\n",
    "                processed += \" \"\n",
    "    else:\n",
    "        sample_parts.append({\"text\": part, \"utterance\": True})\n",
    "        monoline = \" \".join(part.split(\"\\n\\n\"))\n",
    "        processed += monoline\n",
    "        source += monoline\n",
    "    i += 1"
   ]
  },
  {
   "cell_type": "markdown",
   "metadata": {},
   "source": [
    "#### Match the annotated dataset with the re-processed dataset"
   ]
  },
  {
   "cell_type": "code",
   "execution_count": 5,
   "metadata": {
    "collapsed": true
   },
   "outputs": [],
   "source": [
    "processed_to_index = {annotation[\"only_utterance_us\"]: i for i, annotation in reversed(list(enumerate(annotations)))}"
   ]
  },
  {
   "cell_type": "code",
   "execution_count": 6,
   "metadata": {
    "collapsed": true
   },
   "outputs": [],
   "source": [
    "def strip_equal(a, b, l):\n",
    "    return re.sub(r'(\\[X\\])|\\s', '', a)[:l] == re.sub(r'(\\[X\\])|\\s', '', b)[:l]"
   ]
  },
  {
   "cell_type": "code",
   "execution_count": 7,
   "metadata": {},
   "outputs": [
    {
     "name": "stdout",
     "output_type": "stream",
     "text": [
      "My dear Elizabeth, I have the highest opinion in the world of your excellent judgment in all matters within the scope of your understanding, but permit me to say that there must be a wide difference between the established forms of ceremony amongst the laity, and those which regulate the clergy; for give me leave to observe that I consider the clerical office as equal in point of dignity with the highest rank in the kingdom -- provided that a proper humility of behaviour is at the same time maintained. You must therefore allow me to follow the dictates of my conscience on this occasion, which leads me to perform what I look on as a point of duty. Pardon me for neglecting to profit by your advice, which on every other subject shall be my constant guide, though in the case before us I consider myself more fitted by education and habitual study to decide on what is right than a young lady like yourself. [X] apology, [X] Hunsford, [X] Lady Catherine de Bourgh.\n",
      "--\n",
      "delightful, [X] charming,\n",
      "--\n"
     ]
    }
   ],
   "source": [
    "with open('corpus/curated_dialogs.txt') as annoted_text_file:\n",
    "    annotated_text_lines = annoted_text_file.readlines()\n",
    "    for annoted_line in annotated_text_lines:\n",
    "        annotation_i, label, utterance = annoted_line.split('\\t')\n",
    "        utterance = re.sub('\\s+', ' ', utterance.strip())\n",
    "        if utterance in processed_to_index and \"target\" not in annotations[processed_to_index[utterance]]:\n",
    "            annotation = annotations[processed_to_index[utterance]]\n",
    "        else:\n",
    "            annotation = next((a for a in annotations if strip_equal(a['only_utterance_us'], utterance, 100) and \"target\" not in a), None)\n",
    "            if annotation['only_utterance_us'] != utterance:\n",
    "                print(annotation['only_utterance_us'])\n",
    "                print(\"--\")\n",
    "        assert \"target\" not in annotation\n",
    "        annotation[\"only_utterance_article\"] = utterance\n",
    "        annotation[\"target\"] = label"
   ]
  },
  {
   "cell_type": "code",
   "execution_count": 8,
   "metadata": {
    "collapsed": true
   },
   "outputs": [],
   "source": [
    "for a in annotations:\n",
    "    if \"target\" not in a:\n",
    "        print(a)"
   ]
  },
  {
   "cell_type": "markdown",
   "metadata": {},
   "source": [
    "#### Stanford parser annotations"
   ]
  },
  {
   "cell_type": "markdown",
   "metadata": {},
   "source": [
    "Load the stanford parser"
   ]
  },
  {
   "cell_type": "code",
   "execution_count": 9,
   "metadata": {
    "collapsed": true
   },
   "outputs": [],
   "source": [
    "import nltk\n",
    "from nltk.parse import stanford\n",
    "\n",
    "jar = 'stanford-parser-full-2017-06-09/stanford-parser.jar'\n",
    "model = 'stanford-parser-full-2017-06-09/stanford-english-corenlp-2017-06-09-models.jar'\n",
    "\n",
    "dep_parser = stanford.StanfordDependencyParser(model, jar, model_path='edu/stanford/nlp/models/lexparser/englishPCFG.ser.gz', encoding='utf8')"
   ]
  },
  {
   "cell_type": "markdown",
   "metadata": {},
   "source": [
    "Add standford parser annotations like name or gender"
   ]
  },
  {
   "cell_type": "code",
   "execution_count": 10,
   "metadata": {},
   "outputs": [
    {
     "name": "stdout",
     "output_type": "stream",
     "text": [
      "'NoneType' object is not subscriptable\n",
      "{'text': ' -- ', 'utterance': False}\n",
      "'NoneType' object is not subscriptable\n",
      "{'text': ' -- ', 'utterance': False}\n",
      "list index out of range\n",
      "{'text': ' ', 'utterance': False}\n",
      "'NoneType' object is not subscriptable\n",
      "{'text': ' --', 'utterance': False}\n",
      "list index out of range\n",
      "{'text': ' ', 'utterance': False}\n",
      "list index out of range\n",
      "{'text': ' ', 'utterance': False}\n",
      "list index out of range\n",
      "{'text': ' ', 'utterance': False}\n",
      "list index out of range\n",
      "{'text': ' ', 'utterance': False}\n",
      "list index out of range\n",
      "{'text': ' ', 'utterance': False}\n",
      "list index out of range\n",
      "{'text': ' ', 'utterance': False}\n",
      "list index out of range\n",
      "{'text': ' ', 'utterance': False}\n"
     ]
    }
   ],
   "source": [
    "#######################################################\n",
    "# Stanford parser rules: triples -> name, gender, etc #\n",
    "#######################################################\n",
    "def extract_features(speaker_name, speaker_gender, triple):\n",
    "    (word1, tag1), dep, (word2, tag2) = triple\n",
    "    if tag1.startswith('VB') and (tag2.startswith('NN') or tag2.startswith('PRP')):\n",
    "        if tag2.startswith('NNP'):\n",
    "            speaker_name = word2\n",
    "        if word2 in ['he', 'husband', 'man', 'father', 'son']:\n",
    "            speaker_gender = 'M'\n",
    "        if word2 in ['she', 'wife', 'lady', 'mother', 'daughter']:\n",
    "            speaker_gender = 'F'\n",
    "    return (speaker_name, speaker_gender)\n",
    "\n",
    "\n",
    "for sample in annotations:\n",
    "    for part in sample[\"parts\"]:\n",
    "        if not part[\"utterance\"]:\n",
    "            speaker_name = None\n",
    "            speaker_gender = None\n",
    "            tokens = nltk.word_tokenize(part[\"text\"][:200])\n",
    "            tagged = nltk.pos_tag(tokens)\n",
    "            try:\n",
    "                dependencies = sum([[list(parse.triples()) for parse in dep_graphs] for dep_graphs in dep_parser.tagged_parse_sents([tagged])],[])\n",
    "                #print(dependencies)\n",
    "                for (term1,dep,term2) in dependencies[0]:\n",
    "                    speaker_name, speaker_gender = extract_features(speaker_name, speaker_gender, (term1,dep,term2) )\n",
    "                    # try reverse order\n",
    "                    speaker_name, speaker_gender =  extract_features(speaker_name, speaker_gender, (term2,dep,term1) )\n",
    "                    break\n",
    "            except Exception as e:\n",
    "                    print(e)\n",
    "                    print(part)\n",
    "            part[\"speaker_name\"] = speaker_name\n",
    "            part[\"speaker_gender\"] = speaker_gender"
   ]
  },
  {
   "cell_type": "code",
   "execution_count": 12,
   "metadata": {},
   "outputs": [
    {
     "name": "stdout",
     "output_type": "stream",
     "text": [
      "1294\n"
     ]
    }
   ],
   "source": [
    "print(len(annotations))"
   ]
  },
  {
   "cell_type": "code",
   "execution_count": 13,
   "metadata": {},
   "outputs": [
    {
     "data": {
      "text/plain": [
       "[{'only_utterance_article': 'My dear Bennet, [X] have you heard that Netherfield Park is let at last?',\n",
       "  'only_utterance_us': 'My dear Bennet, [X] have you heard that Netherfield Park is let at last?',\n",
       "  'parts': [{'text': 'My dear Bennet,', 'utterance': True},\n",
       "   {'speaker_gender': 'F',\n",
       "    'speaker_name': None,\n",
       "    'text': ' said his lady to him one day, ',\n",
       "    'utterance': False},\n",
       "   {'text': 'have you heard that Netherfield Park is let at last?',\n",
       "    'utterance': True}],\n",
       "  'source': \"``My dear Mr. Bennet,'' said his lady to him one day, ``have you heard that Netherfield Park is let at last?''\",\n",
       "  'target': 'Mrs. Bennet'},\n",
       " {'only_utterance_article': 'But it is, [X] for Mrs. Long has just been here, and she told me all about it.',\n",
       "  'only_utterance_us': 'But it is, [X] for Mrs. Long has just been here, and she told me all about it.',\n",
       "  'parts': [{'text': 'But it is,', 'utterance': True},\n",
       "   {'speaker_gender': 'F',\n",
       "    'speaker_name': None,\n",
       "    'text': ' returned she; ',\n",
       "    'utterance': False},\n",
       "   {'text': 'for Mrs. Long has just been here, and she told me all about it.',\n",
       "    'utterance': True}],\n",
       "  'source': \"``But it is,'' returned she; ``for Mrs. Long has just been here, and she told me all about it.''\",\n",
       "  'target': 'MrsBennet'},\n",
       " {'only_utterance_article': 'Do not you want to know who has taken it?',\n",
       "  'only_utterance_us': 'Do not you want to know who has taken it?',\n",
       "  'parts': [{'text': 'Do not you want to know who has taken it?',\n",
       "    'utterance': True},\n",
       "   {'speaker_gender': 'F',\n",
       "    'speaker_name': None,\n",
       "    'text': ' cried his wife impatiently.',\n",
       "    'utterance': False}],\n",
       "  'source': \"``Do not you want to know who has taken it?'' cried his wife impatiently.\",\n",
       "  'target': 'MrsBennet'},\n",
       " {'only_utterance_article': '_You_ want to tell me, and I have no objection to hearing it.',\n",
       "  'only_utterance_us': '_You_ want to tell me, and I have no objection to hearing it.',\n",
       "  'parts': [{'text': '_You_ want to tell me, and I have no objection to hearing it.',\n",
       "    'utterance': True}],\n",
       "  'source': \"``_You_ want to tell me, and I have no objection to hearing it.''\",\n",
       "  'target': 'Bennet'},\n",
       " {'only_utterance_article': 'Why, my dear, you must know, Mrs. Long says that Netherfield is taken by a young man of large fortune from the north of England; that he came down on Monday in a chaise and four to see the place, and was so much delighted with it that he agreed with Mr. Morris immediately; that he is to take possession before Michaelmas, and some of his servants are to be in the house by the end of next week.',\n",
       "  'only_utterance_us': 'Why, my dear, you must know, Mrs. Long says that Netherfield is taken by a young man of large fortune from the north of England; that he came down on Monday in a chaise and four to see the place, and was so much delighted with it that he agreed with Mr. Morris immediately; that he is to take possession before Michaelmas, and some of his servants are to be in the house by the end of next week.',\n",
       "  'parts': [{'text': 'Why, my dear, you must know, Mrs. Long says that Netherfield is taken by a young man of large fortune from the north of England; that he came down on Monday in a chaise and four to see the place, and was so much delighted with it that he agreed with Mr. Morris immediately; that he is to take possession before Michaelmas, and some of his servants are to be in the house by the end of next week.',\n",
       "    'utterance': True}],\n",
       "  'source': \"``Why, my dear, you must know, Mrs. Long says that Netherfield is taken by a young man of large fortune from the north of England; that he came down on Monday in a chaise and four to see the place, and was so much delighted with it that he agreed with Mr. Morris immediately; that he is to take possession before Michaelmas, and some of his servants are to be in the house by the end of next week.''\",\n",
       "  'target': 'MrsBennet'},\n",
       " {'only_utterance_article': 'What is his name?',\n",
       "  'only_utterance_us': 'What is his name?',\n",
       "  'parts': [{'text': 'What is his name?', 'utterance': True}],\n",
       "  'source': \"``What is his name?''\",\n",
       "  'target': 'Bennet'},\n",
       " {'only_utterance_article': 'Bingley.',\n",
       "  'only_utterance_us': 'Bingley.',\n",
       "  'parts': [{'text': 'Bingley.', 'utterance': True}],\n",
       "  'source': \"``Bingley.''\",\n",
       "  'target': 'MrsBennet'},\n",
       " {'only_utterance_article': 'Is he married or single?',\n",
       "  'only_utterance_us': 'Is he married or single?',\n",
       "  'parts': [{'text': 'Is he married or single?', 'utterance': True}],\n",
       "  'source': \"``Is he married or single?''\",\n",
       "  'target': 'Bennet'},\n",
       " {'only_utterance_article': 'Oh! single, my dear, to be sure! A single man of large fortune; four or five thousand a year. What a fine thing for our girls!',\n",
       "  'only_utterance_us': 'Oh! single, my dear, to be sure! A single man of large fortune; four or five thousand a year. What a fine thing for our girls!',\n",
       "  'parts': [{'text': 'Oh! single, my dear, to be sure! A single man of large fortune; four or five thousand a year. What a fine thing for our girls!',\n",
       "    'utterance': True}],\n",
       "  'source': \"``Oh! single, my dear, to be sure! A single man of large fortune; four or five thousand a year. What a fine thing for our girls!''\",\n",
       "  'target': 'MrsBennet'},\n",
       " {'only_utterance_article': 'How so? how can it affect them?',\n",
       "  'only_utterance_us': 'How so? how can it affect them?',\n",
       "  'parts': [{'text': 'How so? how can it affect them?', 'utterance': True}],\n",
       "  'source': \"``How so? how can it affect them?''\",\n",
       "  'target': 'Bennet'},\n",
       " {'only_utterance_article': 'My dear Bennet, [X] how can you be so tiresome! You must know that I am thinking of his marrying one of them.',\n",
       "  'only_utterance_us': 'My dear Bennet, [X] how can you be so tiresome! You must know that I am thinking of his marrying one of them.',\n",
       "  'parts': [{'text': 'My dear Bennet,', 'utterance': True},\n",
       "   {'speaker_gender': None,\n",
       "    'speaker_name': None,\n",
       "    'text': ' replied his wife, ',\n",
       "    'utterance': False},\n",
       "   {'text': 'how can you be so tiresome! You must know that I am thinking of his marrying one of them.',\n",
       "    'utterance': True}],\n",
       "  'source': \"``My dear Bennet,'' replied his wife, ``how can you be so tiresome! You must know that I am thinking of his marrying one of them.''\",\n",
       "  'target': 'MrsBennet'},\n",
       " {'only_utterance_article': 'Is that his design in settling here?',\n",
       "  'only_utterance_us': 'Is that his design in settling here?',\n",
       "  'parts': [{'text': 'Is that his design in settling here?',\n",
       "    'utterance': True}],\n",
       "  'source': \"``Is that his design in settling here?''\",\n",
       "  'target': 'Bennet'},\n",
       " {'only_utterance_article': 'Design! nonsense, how can you talk so! But it is very likely that he _may_ fall in love with one of them, and therefore you must visit him as soon as he comes.',\n",
       "  'only_utterance_us': 'Design! nonsense, how can you talk so! But it is very likely that he _may_ fall in love with one of them, and therefore you must visit him as soon as he comes.',\n",
       "  'parts': [{'text': 'Design! nonsense, how can you talk so! But it is very likely that he _may_ fall in love with one of them, and therefore you must visit him as soon as he comes.',\n",
       "    'utterance': True}],\n",
       "  'source': \"``Design! nonsense, how can you talk so! But it is very likely that he _may_ fall in love with one of them, and therefore you must visit him as soon as he comes.''\",\n",
       "  'target': 'MrsBennet'},\n",
       " {'only_utterance_article': 'I see no occasion for that. You and the girls may go, or you may send them by themselves, which perhaps will be still better; for, as you are as handsome as any of them, Bingley might like you the best of the party.',\n",
       "  'only_utterance_us': 'I see no occasion for that. You and the girls may go, or you may send them by themselves, which perhaps will be still better; for, as you are as handsome as any of them, Bingley might like you the best of the party.',\n",
       "  'parts': [{'text': 'I see no occasion for that. You and the girls may go, or you may send them by themselves, which perhaps will be still better; for, as you are as handsome as any of them, Bingley might like you the best of the party.',\n",
       "    'utterance': True}],\n",
       "  'source': \"``I see no occasion for that. You and the girls may go, or you may send them by themselves, which perhaps will be still better; for, as you are as handsome as any of them, Bingley might like you the best of the party.''\",\n",
       "  'target': 'Bennet'},\n",
       " {'only_utterance_article': 'My dear, you flatter me. I certainly _have_ had my share of beauty, but I do not pretend to be any thing extraordinary now. When a woman has five grown up daughters, she ought to give over thinking of her own beauty.',\n",
       "  'only_utterance_us': 'My dear, you flatter me. I certainly _have_ had my share of beauty, but I do not pretend to be any thing extraordinary now. When a woman has five grown up daughters, she ought to give over thinking of her own beauty.',\n",
       "  'parts': [{'text': 'My dear, you flatter me. I certainly _have_ had my share of beauty, but I do not pretend to be any thing extraordinary now. When a woman has five grown up daughters, she ought to give over thinking of her own beauty.',\n",
       "    'utterance': True}],\n",
       "  'source': \"``My dear, you flatter me. I certainly _have_ had my share of beauty, but I do not pretend to be any thing extraordinary now. When a woman has five grown up daughters, she ought to give over thinking of her own beauty.''\",\n",
       "  'target': 'MrsBennet'},\n",
       " {'only_utterance_article': 'In such cases, a woman has not often much beauty to think of.',\n",
       "  'only_utterance_us': 'In such cases, a woman has not often much beauty to think of.',\n",
       "  'parts': [{'text': 'In such cases, a woman has not often much beauty to think of.',\n",
       "    'utterance': True}],\n",
       "  'source': \"``In such cases, a woman has not often much beauty to think of.''\",\n",
       "  'target': 'Mr. Bennet'},\n",
       " {'only_utterance_article': 'But, my dear, you must indeed go and see Mr. Bingley when he comes into the neighbourhood.',\n",
       "  'only_utterance_us': 'But, my dear, you must indeed go and see Mr. Bingley when he comes into the neighbourhood.',\n",
       "  'parts': [{'text': 'But, my dear, you must indeed go and see Mr. Bingley when he comes into the neighbourhood.',\n",
       "    'utterance': True}],\n",
       "  'source': \"``But, my dear, you must indeed go and see Mr. Bingley when he comes into the neighbourhood.''\",\n",
       "  'target': 'Mrs. Bennet'},\n",
       " {'only_utterance_article': 'It is more than I engage for, I assure you.',\n",
       "  'only_utterance_us': 'It is more than I engage for, I assure you.',\n",
       "  'parts': [{'text': 'It is more than I engage for, I assure you.',\n",
       "    'utterance': True}],\n",
       "  'source': \"``It is more than I engage for, I assure you.''\",\n",
       "  'target': 'Bennet'},\n",
       " {'only_utterance_article': 'But consider your daughters. Only think what an establishment it would be for one of them. Sir William and Lady Lucas are determined to go, merely on that account, for in general, you know they visit no new comers. Indeed you must go, for it will be impossible for us to visit him, if you do not.',\n",
       "  'only_utterance_us': 'But consider your daughters. Only think what an establishment it would be for one of them. Sir William and Lady Lucas are determined to go, merely on that account, for in general, you know they visit no new comers. Indeed you must go, for it will be impossible for us to visit him, if you do not.',\n",
       "  'parts': [{'text': 'But consider your daughters. Only think what an establishment it would be for one of them. Sir William and Lady Lucas are determined to go, merely on that account, for in general, you know they visit no new comers. Indeed you must go, for it will be impossible for us to visit him, if you do not.',\n",
       "    'utterance': True}],\n",
       "  'source': \"``But consider your daughters. Only think what an establishment it would be for one of them. Sir William and Lady Lucas are determined to go, merely on that account, for in general, you know they visit no new comers. Indeed you must go, for it will be impossible for us to visit him, if you do not.''\",\n",
       "  'target': 'MrsBennet'},\n",
       " {'only_utterance_article': 'You are over-scrupulous, surely. I dare say Bingley will be very glad to see you; and I will send a few lines by you to assure him of my hearty consent to his marrying which ever he chuses of the girls; though I must throw in a good word for my little Elizabeth.',\n",
       "  'only_utterance_us': 'You are over-scrupulous, surely. I dare say Bingley will be very glad to see you; and I will send a few lines by you to assure him of my hearty consent to his marrying which ever he chuses of the girls; though I must throw in a good word for my little Elizabeth.',\n",
       "  'parts': [{'text': 'You are over-scrupulous, surely. I dare say Bingley will be very glad to see you; and I will send a few lines by you to assure him of my hearty consent to his marrying which ever he chuses of the girls; though I must throw in a good word for my little Elizabeth.',\n",
       "    'utterance': True}],\n",
       "  'source': \"``You are over-scrupulous, surely. I dare say Bingley will be very glad to see you; and I will send a few lines by you to assure him of my hearty consent to his marrying which ever he chuses of the girls; though I must throw in a good word for my little Elizabeth.''\",\n",
       "  'target': 'Bennet'}]"
      ]
     },
     "execution_count": 13,
     "metadata": {},
     "output_type": "execute_result"
    }
   ],
   "source": [
    "annotations[:20]"
   ]
  },
  {
   "cell_type": "markdown",
   "metadata": {},
   "source": [
    "Dump the annotated dataset"
   ]
  },
  {
   "cell_type": "code",
   "execution_count": 14,
   "metadata": {
    "collapsed": true
   },
   "outputs": [],
   "source": [
    "pickle.dump(annotations, open(\"corpus/dataset.pkl\", \"wb\"))"
   ]
  },
  {
   "cell_type": "code",
   "execution_count": 15,
   "metadata": {
    "collapsed": true
   },
   "outputs": [],
   "source": [
    "# To facilitate comparison with curated_dialogs.txt\n",
    "with open('corpus/dataset.pkl', 'rb') as pick:\n",
    "    with open('corpus/dataset.txt', 'w+') as text:\n",
    "        annotations = pickle.load(pick)\n",
    "        for a in annotations:\n",
    "            parts = \" \".join(re.sub(r'\\n', ' ', part[\"text\"]) for part in a[\"parts\"])\n",
    "            text.write(parts[:200] + \"\\n\")"
   ]
  }
 ],
 "metadata": {
  "anaconda-cloud": {},
  "kernelspec": {
   "display_name": "Python 3",
   "language": "python",
   "name": "python3"
  },
  "language_info": {
   "codemirror_mode": {
    "name": "ipython",
    "version": 3
   },
   "file_extension": ".py",
   "mimetype": "text/x-python",
   "name": "python",
   "nbconvert_exporter": "python",
   "pygments_lexer": "ipython3",
   "version": "3.6.1"
  }
 },
 "nbformat": 4,
 "nbformat_minor": 2
}

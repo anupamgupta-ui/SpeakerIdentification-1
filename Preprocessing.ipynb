{
 "cells": [
  {
   "cell_type": "markdown",
   "metadata": {},
   "source": [
    "### Dataset preprocessing\n",
    "Process the text to extract utterances and non-utterances and match the samples with the labelled dataset"
   ]
  },
  {
   "cell_type": "code",
   "execution_count": 1,
   "metadata": {},
   "outputs": [],
   "source": [
    "import re\n",
    "import pickle"
   ]
  },
  {
   "cell_type": "code",
   "execution_count": 2,
   "metadata": {
    "collapsed": true
   },
   "outputs": [],
   "source": [
    "with open('corpus/PRIDPREJ_NONEWLINE_Organize_v2.txt', 'r+') as raw_text_file:\n",
    "    # go through all lines in the book\n",
    "    text = raw_text_file.read()"
   ]
  },
  {
   "cell_type": "code",
   "execution_count": 3,
   "metadata": {},
   "outputs": [],
   "source": [
    "annotations = []\n",
    "is_utterance = False\n",
    "processed = \"\"\n",
    "source = \"\"\n",
    "sample_parts = []\n",
    "text = re.sub(' +', ' ', \" \"+text) \n",
    "parts = list(p for p in re.split(\"(``)|('')\", text) if p is not None)\n",
    "i = 0\n",
    "next_quote_doesnt_count = False\n",
    "while i < len(parts):\n",
    "    part = parts[i]\n",
    "    if part == '``' or part == \"''\":\n",
    "        is_utterance = part == '``'\n",
    "        source += part\n",
    "        i += 1\n",
    "        continue\n",
    "    if not is_utterance:\n",
    "        if \"\\n\\n\" in part: # before or after an utterance\n",
    "            lines = part.split(\"\\n\\n\")\n",
    "            if processed != \"\":\n",
    "                if lines[0] != \"\":\n",
    "                    sample_parts.append((lines[0], False))\n",
    "                source += lines[0]\n",
    "                if processed[-5:] == \" [X] \":\n",
    "                    processed = processed[:-5]\n",
    "                if processed != \"\":\n",
    "                    annotations.append({\n",
    "                        \"only_utterance_us\": processed,\n",
    "                        \"source\": source,\n",
    "                        \"parts\": sample_parts\n",
    "                    })\n",
    "            processed = \"\"\n",
    "            if lines[-1] != \"\":\n",
    "                sample_parts = [(lines[-1], False)]\n",
    "            else:\n",
    "                sample_parts = []\n",
    "            source = lines[-1]\n",
    "        else: # in the middle of an utterance\n",
    "            sample_parts.append((part, False))\n",
    "            source += part\n",
    "            if part != \" -- \":\n",
    "                if processed[-5:] != \" [X] \":\n",
    "                    processed += \" [X] \"\n",
    "            else:\n",
    "                processed += \" \"\n",
    "    else:\n",
    "        sample_parts.append((part, True))\n",
    "        monoline = \" \".join(part.split(\"\\n\\n\"))\n",
    "        processed += monoline\n",
    "        source += monoline\n",
    "    i += 1"
   ]
  },
  {
   "cell_type": "markdown",
   "metadata": {},
   "source": [
    "Match the annotated dataset with the re-processed dataset"
   ]
  },
  {
   "cell_type": "code",
   "execution_count": 4,
   "metadata": {},
   "outputs": [],
   "source": [
    "processed_to_index = {annotation[\"only_utterance_us\"]: i for i, annotation in reversed(list(enumerate(annotations)))}"
   ]
  },
  {
   "cell_type": "code",
   "execution_count": 5,
   "metadata": {},
   "outputs": [],
   "source": [
    "def strip_equal(a, b, l):\n",
    "    return re.sub(r'(\\[X\\])|\\s', '', a)[:l] == re.sub(r'(\\[X\\])|\\s', '', b)[:l]"
   ]
  },
  {
   "cell_type": "code",
   "execution_count": 6,
   "metadata": {},
   "outputs": [
    {
     "name": "stdout",
     "output_type": "stream",
     "text": [
      "My dear Miss Elizabeth, I have the highest opinion in the world of your excellent judgment in all matters within the scope of your understanding, but permit me to say that there must be a wide difference between the established forms of ceremony amongst the laity, and those which regulate the clergy; for give me leave to observe that I consider the clerical office as equal in point of dignity with the highest rank in the kingdom -- provided that a proper humility of behaviour is at the same time maintained. You must therefore allow me to follow the dictates of my conscience on this occasion, which leads me to perform what I look on as a point of duty. Pardon me for neglecting to profit by your advice, which on every other subject shall be my constant guide, though in the case before us I consider myself more fitted by education and habitual study to decide on what is right than a young lady like yourself. [X] apology, [X] Hunsford, [X] Lady Catherine de Bourgh.\n",
      "--\n",
      "delightful, [X] charming,\n",
      "--\n"
     ]
    }
   ],
   "source": [
    "with open('corpus/REAL_ALL_CONTENTS_PP.txt') as annoted_text_file:\n",
    "    annotated_text_lines = annoted_text_file.readlines()\n",
    "    for annoted_line in annotated_text_lines:\n",
    "        annotation_i, label, utterance = annoted_line.split('\\t')\n",
    "        utterance = re.sub('\\s+', ' ', utterance.strip())\n",
    "        if utterance in processed_to_index and \"target\" not in annotations[processed_to_index[utterance]]:\n",
    "            annotation = annotations[processed_to_index[utterance]]\n",
    "        else:\n",
    "            annotation = next((a for a in annotations if strip_equal(a['only_utterance_us'], utterance, 100) and \"target\" not in a), None)\n",
    "            if annotation['only_utterance_us'] != utterance:\n",
    "                print(annotation['only_utterance_us'])\n",
    "                print(\"--\")\n",
    "        assert \"target\" not in annotation\n",
    "        annotation[\"only_utterance_article\"] = utterance\n",
    "        annotation[\"target\"] = label"
   ]
  },
  {
   "cell_type": "code",
   "execution_count": 7,
   "metadata": {},
   "outputs": [],
   "source": [
    "for a in annotations:\n",
    "    if \"target\" not in a:\n",
    "        print(a)"
   ]
  },
  {
   "cell_type": "code",
   "execution_count": 8,
   "metadata": {},
   "outputs": [],
   "source": [
    "import pickle"
   ]
  },
  {
   "cell_type": "code",
   "execution_count": 9,
   "metadata": {},
   "outputs": [],
   "source": [
    "pickle.dump(annotations, open(\"corpus/dataset.pkl\", \"wb\"))"
   ]
  }
 ],
 "metadata": {
  "anaconda-cloud": {},
  "kernelspec": {
   "display_name": "Python [default]",
   "language": "python",
   "name": "python3"
  },
  "language_info": {
   "codemirror_mode": {
    "name": "ipython",
    "version": 3
   },
   "file_extension": ".py",
   "mimetype": "text/x-python",
   "name": "python",
   "nbconvert_exporter": "python",
   "pygments_lexer": "ipython3",
   "version": "3.5.4"
  }
 },
 "nbformat": 4,
 "nbformat_minor": 2
}

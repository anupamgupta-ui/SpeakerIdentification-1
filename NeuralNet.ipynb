{
 "cells": [
  {
   "cell_type": "code",
   "execution_count": 293,
   "metadata": {},
   "outputs": [
    {
     "name": "stdout",
     "output_type": "stream",
     "text": [
      "(3, 5, 6)\n"
     ]
    }
   ],
   "source": [
    "from keras import backend as K\n",
    "import tensorflow as tf\n",
    "\n",
    "import numpy as np\n",
    "import keras\n",
    "from keras.preprocessing.text import Tokenizer\n",
    "\n",
    "#TEXT\n",
    "text_decoupe = [[\"The sun is shining in June! It is beautiful.\",\"September is grey.\",\"Life is beautiful in August.\",\n",
    "         \"I like it\",\"This and other things?\"],\n",
    "        [\"The sun is shining in Fevrier! It is beautiful.\",\"Decembre is grey.\",\"Life is beautiful in Monday.\",\n",
    "         \"I like it\",\"This and other things?\"],\n",
    "        [\"The sun is shining in Tuesday! It is beautiful.\",\"Juin is grey.\",\"Life is beautiful in August.\",\n",
    "         \"I like it\",\"This and other things?\"]]\n",
    "text = [\"The sun is shining in June! It is beautiful.\",\"September is grey.\",\"Life is beautiful in August.\",\n",
    "         \"I like it\",\"This and other things?\", \"The sun is shining in Fevrier! It is beautiful.\",\"Decembre is grey.\",\n",
    "         \"Life is beautiful in Monday.\",\"I like it\",\"This and other things?\",\n",
    "         \"The sun is shining in Tuesday! It is beautiful.\",\"Juin is grey.\",\"Life is beautiful in August.\",\n",
    "         \"I like it\",\"This and other things?\"]\n",
    "\n",
    "#TOKENIZER\n",
    "token = keras.preprocessing.text.Tokenizer(num_words=None, filters='!\"#$%&()*+,-./:;<=>?@[\\\\]^_`{|}~\\t\\n',\n",
    "                                           lower=True, split=\" \", char_level=False)\n",
    "token.fit_on_texts(text)\n",
    "data = np.zeros((len(text_decoupe),5,len(token.word_counts)))\n",
    "for i in range(0,3):\n",
    "    data[i,:,:] = token.texts_to_matrix(text_decoupe[i])[:,1:]\n",
    "    \n",
    "#EMBEDDING\n",
    "input_dim = token.word_counts\n",
    "embedding_output_dim = 10\n",
    "input_text = keras.layers.Input(shape =(5,len(input_dim),), name = \"main\")\n",
    "embedding_layer = keras.layers.Embedding(len(input_dim), embedding_output_dim, input_length = None,\n",
    "                                        embeddings_initializer='uniform',embeddings_regularizer=None, \n",
    "                                        activity_regularizer=None,embeddings_constraint=None,\n",
    "                                        mask_zero=False)(input_text)\n",
    "\n",
    "#BAG_OF_WORDS\n",
    "#bag = keras.layers.GlobalAveragePooling1D()(embedding_layer)\n",
    "bag = keras.layers.Lambda(lambda x: K.sum(x, axis=2), output_shape=(5,10,))(embedding_layer)\n",
    "\n",
    "\n",
    "#INPUTBIS\n",
    "A = np.random.rand(3,5,4)\n",
    "input_incise = keras.layers.Input((5,4,), name = \"aux\")\n",
    "\n",
    "#MERGING\n",
    "merged = keras.layers.concatenate([bag, input_incise])\n",
    "\n",
    "#LSTM\n",
    "units = 6\n",
    "lstm = keras.layers.LSTM(units, activation='tanh', recurrent_activation='hard_sigmoid', use_bias=True, \n",
    "                  kernel_initializer='glorot_uniform', recurrent_initializer='orthogonal', bias_initializer='zeros',\n",
    "                  unit_forget_bias=True, kernel_regularizer=None, recurrent_regularizer=None, bias_regularizer=None,\n",
    "                  activity_regularizer=None, kernel_constraint=None, recurrent_constraint=None, bias_constraint=None,\n",
    "                  dropout=0.0, recurrent_dropout=0.0, implementation=1, return_sequences=True, return_state=False,\n",
    "                  go_backwards=False, stateful=False, unroll=False) (merged)\n",
    "\n",
    "\n",
    "model = keras.Model(inputs = [input_text, input_incise] , outputs = lstm)\n",
    "#print(model.predict([data,A]))\n",
    "print(model.predict([data,A]).shape)\n",
    "\n",
    "sgd = keras.optimizers.SGD(lr=0.01, decay=1e-6, momentum=0.9, nesterov=True)\n",
    "model.compile(loss='categorical_crossentropy',\n",
    "              optimizer=sgd,\n",
    "              metrics=['accuracy'])"
   ]
  },
  {
   "cell_type": "code",
   "execution_count": 313,
   "metadata": {},
   "outputs": [
    {
     "name": "stdout",
     "output_type": "stream",
     "text": [
      "Epoch 1/1\n",
      "\r",
      "3/3 [==============================] - 0s 2ms/step - loss: 4.3088 - acc: 0.1333\n"
     ]
    },
    {
     "data": {
      "text/plain": [
       "<keras.callbacks.History at 0x2464f6f5358>"
      ]
     },
     "execution_count": 313,
     "metadata": {},
     "output_type": "execute_result"
    }
   ],
   "source": [
    "model.fit([data,A], Y)"
   ]
  },
  {
   "cell_type": "code",
   "execution_count": 312,
   "metadata": {},
   "outputs": [],
   "source": [
    "#ONEHOT_ENCODING\n",
    "from sklearn.preprocessing import OneHotEncoder\n",
    "entree = [[2,1,2,1,2],[1,2,3,4,5],[3,4,0,0,0]]\n",
    "nb_personnages = 7\n",
    "enc = OneHotEncoder(n_values = nb_personnages)\n",
    "\n",
    "enc.fit(entree)\n",
    "Y = enc.transform(entree).toarray().reshape(3,5,7)[:,:,1:]"
   ]
  },
  {
   "cell_type": "code",
   "execution_count": null,
   "metadata": {
    "collapsed": true
   },
   "outputs": [],
   "source": []
  }
 ],
 "metadata": {
  "kernelspec": {
   "display_name": "Python [conda root]",
   "language": "python",
   "name": "conda-root-py"
  },
  "language_info": {
   "codemirror_mode": {
    "name": "ipython",
    "version": 3
   },
   "file_extension": ".py",
   "mimetype": "text/x-python",
   "name": "python",
   "nbconvert_exporter": "python",
   "pygments_lexer": "ipython3",
   "version": "3.6.2"
  }
 },
 "nbformat": 4,
 "nbformat_minor": 2
}

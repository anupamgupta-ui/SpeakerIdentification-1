{
 "cells": [
  {
   "cell_type": "markdown",
   "metadata": {},
   "source": [
    "### Step 0: Initialize knowledge about the characters"
   ]
  },
  {
   "cell_type": "code",
   "execution_count": 1,
   "metadata": {
    "collapsed": true
   },
   "outputs": [],
   "source": [
    "from src.character import characters"
   ]
  },
  {
   "cell_type": "code",
   "execution_count": 2,
   "metadata": {
    "collapsed": true
   },
   "outputs": [],
   "source": [
    "import re\n",
    "import nltk\n",
    "from nltk.parse import stanford\n",
    "\n",
    "# Add the jar and model via their path (instead of setting environment variables):\n",
    "#jar = '.\\stanford-parser-full-2015-01-30\\stanford-parser.jar'\n",
    "#model = '.\\stanford-parser-full-2015-01-30\\stanford-parser.jar'\n",
    "\n",
    "jar = '.\\stanford-parser-full-2017-06-09\\stanford-parser-3.8.0.jar'\n",
    "model = '.\\stanford-parser-full-2017-06-09\\stanford-parser-3.8.0.jar'\n",
    "\n",
    "parser = stanford.StanfordParser(model, jar, model_path='edu/stanford/nlp/models/lexparser/englishPCFG.ser.gz', encoding='utf8')\n",
    "dep_parser = stanford.StanfordDependencyParser(model, jar, model_path='edu/stanford/nlp/models/lexparser/englishPCFG.ser.gz', encoding='utf8')\n"
   ]
  },
  {
   "cell_type": "code",
   "execution_count": 3,
   "metadata": {
    "collapsed": true
   },
   "outputs": [],
   "source": [
    "from src.curation import curation\n",
    "curation(characters)"
   ]
  },
  {
   "cell_type": "markdown",
   "metadata": {
    "collapsed": true
   },
   "source": [
    "### Step 1: extracting dialogs and explicit speakers from raw text (deterministic method)"
   ]
  },
  {
   "cell_type": "code",
   "execution_count": 4,
   "metadata": {
    "scrolled": true
   },
   "outputs": [
    {
     "name": "stdout",
     "output_type": "stream",
     "text": [
      "\n",
      "``Why will you think so?  It must be his own doing. -- He is his own master.  But you do not know _all_.  I _will_ read you the passage which particularly hurts me.  I will have no reserves from _you_. [X] Darcy is impatient to see his sister, and to confess the truth, we are scarcely less eager to meet her again.  I really do not think Georgiana Darcy has her equal for beauty, elegance, and accomplishments; and the affection she inspires in Louisa and myself is heightened into something still more interesting, from the hope we dare to entertain of her being hereafter our sister.  I do not know whether I ever before mentioned to you my feelings on this subject, but I will not leave the country without confiding them, and I trust you will not esteem them unreasonable.  My brother admires her greatly already, he will have frequent opportunity now of seeing her on the most intimate footing, her relations all wish the connection as much as his own, and a sister's partiality is not misleading me, I think, when I call Charles most capable of engaging any woman's heart.  With all these circumstances to favour an attachment and nothing to prevent it, am I wrong, my dearest Jane, in indulging the hope of an event which will secure the happiness of so many?''\n",
      "\n",
      "\n",
      "``I do not see what right Darcy had to decide on the propriety of his friend's inclination, or why, upon his own judgment alone, he was to determine and direct in what manner that friend was to be happy. [X] But, [X] as we know none of the particulars, it is not fair to condemn him.  It is not to be supposed that there was much affection in the case.''\n",
      "\n",
      "\n",
      "``Something very much to the purpose of course.  He begins with congratulations on the approaching nuptials of my eldest daughter, of which, it seems, he has been told by some of the good-natured, gossiping Lucases.  I shall not sport with your impatience, by reading what he says on that point.  What relates to yourself, is as follows. [X] Having thus offered you the sincere congratulations of Charlotte and myself on this happy event, let me now add a short hint on the subject of another; of which we have been advertised by the same authority.  Your daughter Elizabeth, it is presumed, will not long bear the name of Bennet, after her elder sister has resigned it, and the chosen partner of her fate may be reasonably looked up to as one of the most illustrious personages in this land.''\n",
      "\n",
      "\n",
      "``Can you possibly guess, Elizabeth, who is meant by this? [X] This young gentleman is blessed, in a peculiar way, with every thing the heart of mortal can most desire, -- splendid property, noble kindred, and extensive patronage.  Yet in spite of all these temptations, let me warn my cousin Elizabeth, and yourself, of what evils you may incur by a precipitate closure with this gentleman's proposals, which, of course, you will be inclined to take immediate advantage of.''\n",
      "\n",
      "\n",
      "``After mentioning the likelihood of this marriage to her ladyship last night, she immediately, with her usual condescension, expressed what she felt on the occasion; when it become apparent, that on the score of some family objections on the part of my cousin, she would never give her consent to what she termed so disgraceful a match.  I thought it my duty to give the speediest intelligence of this to my cousin, that she and her noble admirer may be aware of what they are about, and not run hastily into a marriage which has not been properly sanctioned. [X] MrCollins moreover adds, [X] I am truly rejoiced that my cousin Lydia's sad business has been so well hushed up, and am only concerned that their living together before the marriage took place should be so generally known. I must not, however, neglect the duties of my station, or refrain from declaring my amazement at hearing that you received the young couple into your house as soon as they were married.  It was an encouragement of vice; and had I been the rector of Longbourn, I should very strenuously have opposed it. You ought certainly to forgive them as a Christian, but never to admit them in your sight, or allow their names to be mentioned in your hearing. [X] _That_ is his notion of Christian forgiveness!  The rest of his letter is only about his dear Charlotte's situation, and his expectation of a young olive-branch.  But, Elizabeth, you look as if you did not enjoy it. You are not going to be _Missish_, I hope, and pretend to be affronted at an idle report.  For what do we live, but to make sport for our neighbours, and laugh at them in our turn?''\n",
      "\n"
     ]
    }
   ],
   "source": [
    "from src.explicit import get_annotated_lines\n",
    "\n",
    "annotated_lines = get_annotated_lines(parser=parser, dep_parser=dep_parser)"
   ]
  },
  {
   "cell_type": "code",
   "execution_count": 5,
   "metadata": {},
   "outputs": [
    {
     "name": "stdout",
     "output_type": "stream",
     "text": [
      "1283\n"
     ]
    }
   ],
   "source": [
    "print(len(annotated_lines))"
   ]
  },
  {
   "cell_type": "code",
   "execution_count": 7,
   "metadata": {},
   "outputs": [
    {
     "data": {
      "text/plain": [
       "(None,\n",
       " None,\n",
       " \"``But it is, [X] for Mrs. Long has just been here, and she told me all about it.''\\n\")"
      ]
     },
     "execution_count": 7,
     "metadata": {},
     "output_type": "execute_result"
    }
   ],
   "source": [
    "annotated_lines[1]"
   ]
  },
  {
   "cell_type": "code",
   "execution_count": null,
   "metadata": {
    "collapsed": true
   },
   "outputs": [],
   "source": [
    "from nltk.tree import Tree\n",
    "\n",
    "t = Tree('ROOT', [Tree('SINV', [Tree('VP', [Tree('VBD', ['said'])]), Tree('NP', [Tree('NP', [Tree('PRP$', ['his']), Tree('NN', ['lady'])]), Tree('PP', [Tree('TO', ['to']), Tree('NP', [Tree('NP', [Tree('PRP', ['him'])]), Tree('NP', [Tree('CD', ['one']), Tree('NN', ['day'])]), Tree(',', [','])])])])])])\n",
    "t.draw()"
   ]
  },
  {
   "cell_type": "code",
   "execution_count": null,
   "metadata": {
    "collapsed": true
   },
   "outputs": [],
   "source": [
    "t = [Tree('ROOT', [Tree('S', [Tree('VP', [Tree('VBG', ['returned']), Tree('NP', [Tree('PRP', ['she'])])]), Tree(':', [';'])])])]\n",
    "\n",
    "t.draw()\n"
   ]
  },
  {
   "cell_type": "markdown",
   "metadata": {},
   "source": [
    "### Step 2: extracting features"
   ]
  },
  {
   "cell_type": "code",
   "execution_count": null,
   "metadata": {
    "collapsed": true
   },
   "outputs": [],
   "source": [
    "from collections import defaultdict # defaultdict(int) return 0 if key not in dict"
   ]
  },
  {
   "cell_type": "code",
   "execution_count": null,
   "metadata": {
    "collapsed": true
   },
   "outputs": [],
   "source": [
    "names = list(characters.keys())"
   ]
  },
  {
   "cell_type": "code",
   "execution_count": null,
   "metadata": {
    "collapsed": true
   },
   "outputs": [],
   "source": [
    "# novel level feature\n",
    "# TODO: take values on train set\n",
    "#character_phrases_count = defaultdict(int) # to get speaking frequence of each character\n",
    "\n",
    "# dialog level feature\n",
    "character_dialog_mention = {character: [] for character in names} # boolean\n",
    "\n",
    "# phrase level feature\n",
    "character_last_phrase = {character: [] for character in names}   # index of last phrase\n",
    "character_explicit_mention = {character: [] for character in names} #  boolean\n",
    "\n",
    "# TODO, char by char we'll set 1 if same\n",
    "# gender, 0 if not and 0.5 if no gender can be supposed\n",
    "character_supposed_gender = defaultdict(list)   "
   ]
  },
  {
   "cell_type": "code",
   "execution_count": null,
   "metadata": {
    "collapsed": true
   },
   "outputs": [],
   "source": [
    "dialogs = open(\"./corpus/curated_dialogs.txt\", \"r\").read().split('\\n')[:-1]\n",
    "\n",
    "phrases_count = 0\n",
    "dialog_index = 0\n",
    "for phrase, (explicit_speaker, gender, _) in zip(dialogs, annotated_lines):\n",
    "    phrases_count += 1\n",
    "    dialog, speaker, text = phrase.split(\"\\t\")\n",
    "    \n",
    "    if dialog > dialog_index:\n",
    "        dialog_index = dialog\n",
    "        for character in names:\n",
    "            character_dialog_mention[character].append(False)\n",
    "            character_explicit_mention[character].append([])\n",
    "            character_last_phrase[character].append(-1)\n",
    "            character_supposed_gender[character].append([])\n",
    "            \n",
    "    for character in names:\n",
    "        character_explicit_mention[character][-1].append(False)\n",
    "            \n",
    "    for character in set(names).intersection(set(text.split(' '))):\n",
    "        character_dialog_mention[character][-1] = True\n",
    "        \n",
    "    if explicit_speaker is not None:\n",
    "        character_explicit_mention[explicit_speaker][-1][-1] = True\n",
    "    \n",
    "    ## Train ##\n",
    "    # only for training as we use the speaker label, take prediction for valid and test\n",
    "    \n",
    "    if gender is None:\n",
    "        for character in names:       \n",
    "            character_supposed_gender[character][-1].append(0.5)\n",
    "    else:\n",
    "        is_speaker = 1 if gender == characters[speaker].gender else 0\n",
    "        character_supposed_gender[speaker][-1].append(is_speaker)\n",
    "        for character in names:\n",
    "            if character != speaker:\n",
    "                character_supposed_gender[character][-1].append(1-is_speaker)\n",
    "                \n",
    "    character_last_phrase[speaker][-1] = phrases_count \n",
    "    ## Train ##\n",
    "    \n",
    "    character_phrase_count[speaker] += 1"
   ]
  },
  {
   "cell_type": "code",
   "execution_count": null,
   "metadata": {
    "collapsed": true
   },
   "outputs": [],
   "source": []
  }
 ],
 "metadata": {
  "kernelspec": {
   "display_name": "Python 3",
   "language": "python",
   "name": "python3"
  },
  "language_info": {
   "codemirror_mode": {
    "name": "ipython",
    "version": 3
   },
   "file_extension": ".py",
   "mimetype": "text/x-python",
   "name": "python",
   "nbconvert_exporter": "python",
   "pygments_lexer": "ipython3",
   "version": "3.6.1"
  }
 },
 "nbformat": 4,
 "nbformat_minor": 2
}

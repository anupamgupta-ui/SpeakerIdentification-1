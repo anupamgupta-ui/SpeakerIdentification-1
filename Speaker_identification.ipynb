{
 "cells": [
  {
   "cell_type": "markdown",
   "metadata": {
    "collapsed": true
   },
   "source": [
    "### Step 1: extracting dialogs and explicit speakers from raw text (deterministic method) => done in Preprocessing.py"
   ]
  },
  {
   "cell_type": "code",
   "execution_count": 1,
   "metadata": {},
   "outputs": [
    {
     "data": {
      "text/plain": [
       "{'only_utterance_article': 'My dear Mr_Bennet, [X] have you heard that Netherfield Park is let at last?',\n",
       " 'only_utterance_us': 'My dear Mr_Bennet, [X] have you heard that Netherfield Park is let at last?',\n",
       " 'parts': [{'text': 'My dear Mr_Bennet,', 'utterance': True},\n",
       "  {'speaker_function': 'lady',\n",
       "   'speaker_gender': 'F',\n",
       "   'speaker_name': None,\n",
       "   'text': ' said his lady to him one day, ',\n",
       "   'utterance': False},\n",
       "  {'text': 'have you heard that Netherfield Park is let at last?',\n",
       "   'utterance': True}],\n",
       " 'source': \"``My dear Mr_Bennet,'' said his lady to him one day, ``have you heard that Netherfield Park is let at last?''\",\n",
       " 'target': 'Mrs_Bennet'}"
      ]
     },
     "execution_count": 1,
     "metadata": {},
     "output_type": "execute_result"
    }
   ],
   "source": [
    "import pickle\n",
    "from src.character import characters\n",
    "\n",
    "with open(\"corpus/dataset.pkl\", 'rb') as file:\n",
    "    annotated_lines = pickle.load(file)\n",
    "    \n",
    "annotated_lines[0]"
   ]
  },
  {
   "cell_type": "markdown",
   "metadata": {},
   "source": [
    "### Step 2: extracting features"
   ]
  },
  {
   "cell_type": "code",
   "execution_count": 2,
   "metadata": {
    "collapsed": true
   },
   "outputs": [],
   "source": [
    "import pandas as pd"
   ]
  },
  {
   "cell_type": "code",
   "execution_count": 3,
   "metadata": {},
   "outputs": [],
   "source": [
    "features = [\"character_freq\", \n",
    "            \"character_dialog_mention\",\n",
    "            \"character_vocal_mention\",\n",
    "            \"character_narrator_mention\",\n",
    "            \"gender_as_supposed\",\n",
    "            \"character_spoke_last\",\n",
    "            \"character_is_target\"]\n",
    "\n",
    "columns = [\"dialog\", \"speaker\"] + [feature + \"_\" + character.name for feature in features for character in characters]"
   ]
  },
  {
   "cell_type": "code",
   "execution_count": 4,
   "metadata": {},
   "outputs": [],
   "source": [
    "names = [character.name for character in characters]"
   ]
  },
  {
   "cell_type": "code",
   "execution_count": 5,
   "metadata": {
    "collapsed": true
   },
   "outputs": [],
   "source": [
    "import traceback, sys"
   ]
  },
  {
   "cell_type": "code",
   "execution_count": 6,
   "metadata": {
    "collapsed": true
   },
   "outputs": [],
   "source": [
    "import string\n",
    "def split_words(text):\n",
    "    \"remove all punctuation and split by spaces\"\n",
    "    table = str.maketrans({key: None for key in string.punctuation})\n",
    "    return text.translate(table) .split(\" \")"
   ]
  },
  {
   "cell_type": "code",
   "execution_count": 7,
   "metadata": {
    "scrolled": true
   },
   "outputs": [],
   "source": [
    "dialogs = open(\"./corpus/curated_dialogs.txt\", \"r\").read().split('\\n')[:-1]\n",
    "dataset = pd.DataFrame([], columns=columns)\n",
    "\n",
    "dialog_index = 0\n",
    "line_idx = 0\n",
    "last_speaker = \"\"\n",
    "for count, (phrase, annotated_line) in enumerate(zip(dialogs, annotated_lines)):\n",
    "    try:\n",
    "        dialog, speaker, text = phrase.split(\"\\t\")\n",
    "\n",
    "        if int(dialog) > dialog_index:\n",
    "            character_dialog_mentions = {name: False for name in names}\n",
    "            dialog_index = int(dialog)\n",
    "        \n",
    "        line = {\"dialog\": int(dialog), \"speaker\": speaker}\n",
    "        vocal_mentions = set(names).intersection(set(split_words(text)))\n",
    "        \n",
    "        words = set([word for part in annotated_line['parts'] for word in\n",
    "                     split_words(part['text']) if not part['utterance']])\n",
    "        narrator_mentions = set(names).intersection(words)\n",
    "            \n",
    "        for idx, character in enumerate(characters):\n",
    "            line[\"character_freq_\" + character.name] = 0.0\n",
    "            \n",
    "            line[\"character_vocal_mention_\" + character.name] = character.name in vocal_mentions\n",
    "            line[\"character_narrator_mention_\" + character.name] = character.name in narrator_mentions\n",
    "            line[\"character_dialog_mention_\" + character.name] = character_dialog_mentions[character.name]\n",
    "                \n",
    "            character_dialog_mentions[character.name] = character_dialog_mentions[character.name] or\\\n",
    "                                                        character.name in vocal_mentions          or\\\n",
    "                                                        character.name in narrator_mentions\n",
    "            supposed_gender = None\n",
    "            for part in annotated_line[\"parts\"]:\n",
    "                if(\"speaker_gender\" in part and part[\"speaker_gender\"] is not None):\n",
    "                    supposed_gender = part[\"speaker_gender\"]\n",
    "            \n",
    "            if(supposed_gender is None):\n",
    "                gender_as_supposed = 0.5\n",
    "            elif(supposed_gender == character.gender):\n",
    "                gender_as_supposed = 1\n",
    "            else:\n",
    "                gender_as_supposed = 0\n",
    "            line[\"gender_as_supposed_\" + character.name] = gender_as_supposed\n",
    "                \n",
    "            line[\"character_spoke_last_\" + character.name] = True if last_speaker == character.name else False\n",
    "            \n",
    "            if(annotated_line[\"target\"] is not None and annotated_line[\"target\"] == character.name):\n",
    "                character_is_target = True\n",
    "            else:\n",
    "                character_is_target = False\n",
    "            line[\"character_is_target_\" + character.name] = character_is_target\n",
    "        \n",
    "        dataset.loc[line_idx] = line\n",
    "        line_idx += 1\n",
    "    except Exception as e:\n",
    "        print(traceback.format_exception(None, # <- type(e) by docs, but ignored \n",
    "                                     e, e.__traceback__),\n",
    "          file=sys.stderr, flush=True)\n",
    "        print(\"line {}, caused a problem: {}\".format(count, e))\n",
    "dataset[\"dialog\"] = dataset.dialog.astype(int)"
   ]
  },
  {
   "cell_type": "code",
   "execution_count": 8,
   "metadata": {
    "scrolled": true
   },
   "outputs": [
    {
     "data": {
      "text/html": [
       "<div>\n",
       "<style>\n",
       "    .dataframe thead tr:only-child th {\n",
       "        text-align: right;\n",
       "    }\n",
       "\n",
       "    .dataframe thead th {\n",
       "        text-align: left;\n",
       "    }\n",
       "\n",
       "    .dataframe tbody tr th {\n",
       "        vertical-align: top;\n",
       "    }\n",
       "</style>\n",
       "<table border=\"1\" class=\"dataframe\">\n",
       "  <thead>\n",
       "    <tr style=\"text-align: right;\">\n",
       "      <th></th>\n",
       "      <th>dialog</th>\n",
       "      <th>speaker</th>\n",
       "      <th>character_freq_Mrs_Annesley</th>\n",
       "      <th>character_freq_Elizabeth_Bennet</th>\n",
       "      <th>character_freq_Jane_Bennet</th>\n",
       "      <th>character_freq_Lydia_Bennet</th>\n",
       "      <th>character_freq_Kitty_Bennet</th>\n",
       "      <th>character_freq_Mary_Bennet</th>\n",
       "      <th>character_freq_Mrs_Bennet</th>\n",
       "      <th>character_freq_Caroline_Bingley</th>\n",
       "      <th>...</th>\n",
       "      <th>character_is_target_Mr_Jones</th>\n",
       "      <th>character_is_target_Mr_Hurst</th>\n",
       "      <th>character_is_target_Mr_Morris</th>\n",
       "      <th>character_is_target_Mr_Philips</th>\n",
       "      <th>character_is_target_Mr_Pratt</th>\n",
       "      <th>character_is_target_Mr_Robinson</th>\n",
       "      <th>character_is_target_Mr_Stone</th>\n",
       "      <th>character_is_target_Old_Mr_Wickham</th>\n",
       "      <th>character_is_target_Sir_William</th>\n",
       "      <th>character_is_target_Mr_Wickham</th>\n",
       "    </tr>\n",
       "  </thead>\n",
       "  <tbody>\n",
       "    <tr>\n",
       "      <th>0</th>\n",
       "      <td>1</td>\n",
       "      <td>Mrs_Bennet</td>\n",
       "      <td>0.0</td>\n",
       "      <td>0.0</td>\n",
       "      <td>0.0</td>\n",
       "      <td>0.0</td>\n",
       "      <td>0.0</td>\n",
       "      <td>0.0</td>\n",
       "      <td>0.0</td>\n",
       "      <td>0.0</td>\n",
       "      <td>...</td>\n",
       "      <td>False</td>\n",
       "      <td>False</td>\n",
       "      <td>False</td>\n",
       "      <td>False</td>\n",
       "      <td>False</td>\n",
       "      <td>False</td>\n",
       "      <td>False</td>\n",
       "      <td>False</td>\n",
       "      <td>False</td>\n",
       "      <td>False</td>\n",
       "    </tr>\n",
       "    <tr>\n",
       "      <th>1</th>\n",
       "      <td>1</td>\n",
       "      <td>Mrs_Bennet</td>\n",
       "      <td>0.0</td>\n",
       "      <td>0.0</td>\n",
       "      <td>0.0</td>\n",
       "      <td>0.0</td>\n",
       "      <td>0.0</td>\n",
       "      <td>0.0</td>\n",
       "      <td>0.0</td>\n",
       "      <td>0.0</td>\n",
       "      <td>...</td>\n",
       "      <td>False</td>\n",
       "      <td>False</td>\n",
       "      <td>False</td>\n",
       "      <td>False</td>\n",
       "      <td>False</td>\n",
       "      <td>False</td>\n",
       "      <td>False</td>\n",
       "      <td>False</td>\n",
       "      <td>False</td>\n",
       "      <td>False</td>\n",
       "    </tr>\n",
       "    <tr>\n",
       "      <th>2</th>\n",
       "      <td>1</td>\n",
       "      <td>Mrs_Bennet</td>\n",
       "      <td>0.0</td>\n",
       "      <td>0.0</td>\n",
       "      <td>0.0</td>\n",
       "      <td>0.0</td>\n",
       "      <td>0.0</td>\n",
       "      <td>0.0</td>\n",
       "      <td>0.0</td>\n",
       "      <td>0.0</td>\n",
       "      <td>...</td>\n",
       "      <td>False</td>\n",
       "      <td>False</td>\n",
       "      <td>False</td>\n",
       "      <td>False</td>\n",
       "      <td>False</td>\n",
       "      <td>False</td>\n",
       "      <td>False</td>\n",
       "      <td>False</td>\n",
       "      <td>False</td>\n",
       "      <td>False</td>\n",
       "    </tr>\n",
       "    <tr>\n",
       "      <th>3</th>\n",
       "      <td>1</td>\n",
       "      <td>Mr_Bennet</td>\n",
       "      <td>0.0</td>\n",
       "      <td>0.0</td>\n",
       "      <td>0.0</td>\n",
       "      <td>0.0</td>\n",
       "      <td>0.0</td>\n",
       "      <td>0.0</td>\n",
       "      <td>0.0</td>\n",
       "      <td>0.0</td>\n",
       "      <td>...</td>\n",
       "      <td>False</td>\n",
       "      <td>False</td>\n",
       "      <td>False</td>\n",
       "      <td>False</td>\n",
       "      <td>False</td>\n",
       "      <td>False</td>\n",
       "      <td>False</td>\n",
       "      <td>False</td>\n",
       "      <td>False</td>\n",
       "      <td>False</td>\n",
       "    </tr>\n",
       "    <tr>\n",
       "      <th>4</th>\n",
       "      <td>1</td>\n",
       "      <td>Mrs_Bennet</td>\n",
       "      <td>0.0</td>\n",
       "      <td>0.0</td>\n",
       "      <td>0.0</td>\n",
       "      <td>0.0</td>\n",
       "      <td>0.0</td>\n",
       "      <td>0.0</td>\n",
       "      <td>0.0</td>\n",
       "      <td>0.0</td>\n",
       "      <td>...</td>\n",
       "      <td>False</td>\n",
       "      <td>False</td>\n",
       "      <td>False</td>\n",
       "      <td>False</td>\n",
       "      <td>False</td>\n",
       "      <td>False</td>\n",
       "      <td>False</td>\n",
       "      <td>False</td>\n",
       "      <td>False</td>\n",
       "      <td>False</td>\n",
       "    </tr>\n",
       "  </tbody>\n",
       "</table>\n",
       "<p>5 rows × 366 columns</p>\n",
       "</div>"
      ],
      "text/plain": [
       "   dialog     speaker  character_freq_Mrs_Annesley  \\\n",
       "0       1  Mrs_Bennet                          0.0   \n",
       "1       1  Mrs_Bennet                          0.0   \n",
       "2       1  Mrs_Bennet                          0.0   \n",
       "3       1   Mr_Bennet                          0.0   \n",
       "4       1  Mrs_Bennet                          0.0   \n",
       "\n",
       "   character_freq_Elizabeth_Bennet  character_freq_Jane_Bennet  \\\n",
       "0                              0.0                         0.0   \n",
       "1                              0.0                         0.0   \n",
       "2                              0.0                         0.0   \n",
       "3                              0.0                         0.0   \n",
       "4                              0.0                         0.0   \n",
       "\n",
       "   character_freq_Lydia_Bennet  character_freq_Kitty_Bennet  \\\n",
       "0                          0.0                          0.0   \n",
       "1                          0.0                          0.0   \n",
       "2                          0.0                          0.0   \n",
       "3                          0.0                          0.0   \n",
       "4                          0.0                          0.0   \n",
       "\n",
       "   character_freq_Mary_Bennet  character_freq_Mrs_Bennet  \\\n",
       "0                         0.0                        0.0   \n",
       "1                         0.0                        0.0   \n",
       "2                         0.0                        0.0   \n",
       "3                         0.0                        0.0   \n",
       "4                         0.0                        0.0   \n",
       "\n",
       "   character_freq_Caroline_Bingley               ...                \\\n",
       "0                              0.0               ...                 \n",
       "1                              0.0               ...                 \n",
       "2                              0.0               ...                 \n",
       "3                              0.0               ...                 \n",
       "4                              0.0               ...                 \n",
       "\n",
       "   character_is_target_Mr_Jones  character_is_target_Mr_Hurst  \\\n",
       "0                         False                         False   \n",
       "1                         False                         False   \n",
       "2                         False                         False   \n",
       "3                         False                         False   \n",
       "4                         False                         False   \n",
       "\n",
       "   character_is_target_Mr_Morris  character_is_target_Mr_Philips  \\\n",
       "0                          False                           False   \n",
       "1                          False                           False   \n",
       "2                          False                           False   \n",
       "3                          False                           False   \n",
       "4                          False                           False   \n",
       "\n",
       "   character_is_target_Mr_Pratt  character_is_target_Mr_Robinson  \\\n",
       "0                         False                            False   \n",
       "1                         False                            False   \n",
       "2                         False                            False   \n",
       "3                         False                            False   \n",
       "4                         False                            False   \n",
       "\n",
       "   character_is_target_Mr_Stone  character_is_target_Old_Mr_Wickham  \\\n",
       "0                         False                               False   \n",
       "1                         False                               False   \n",
       "2                         False                               False   \n",
       "3                         False                               False   \n",
       "4                         False                               False   \n",
       "\n",
       "   character_is_target_Sir_William  character_is_target_Mr_Wickham  \n",
       "0                            False                           False  \n",
       "1                            False                           False  \n",
       "2                            False                           False  \n",
       "3                            False                           False  \n",
       "4                            False                           False  \n",
       "\n",
       "[5 rows x 366 columns]"
      ]
     },
     "execution_count": 8,
     "metadata": {},
     "output_type": "execute_result"
    }
   ],
   "source": [
    "dataset.head()"
   ]
  },
  {
   "cell_type": "markdown",
   "metadata": {},
   "source": [
    "### Step 3: Train Valid Test split"
   ]
  },
  {
   "cell_type": "code",
   "execution_count": 9,
   "metadata": {},
   "outputs": [],
   "source": [
    "import numpy as np\n",
    "np.random.seed(9295)\n",
    "dialogs = np.arange(dataset.dialog.max())\n",
    "np.random.shuffle(dialogs)"
   ]
  },
  {
   "cell_type": "code",
   "execution_count": 10,
   "metadata": {},
   "outputs": [
    {
     "name": "stdout",
     "output_type": "stream",
     "text": [
      "Train set contains 48 dialogs.\n",
      "Valid set contains 6 dialogs.\n",
      "Test set contains 7 dialogs.\n"
     ]
    }
   ],
   "source": [
    "b1 = len(dialogs) * 8 // 10\n",
    "b2 = len(dialogs) * 9 // 10\n",
    "train_dialogs = dialogs[:b1]\n",
    "valid_dialogs = dialogs[b1:b2]\n",
    "test_dialogs  = dialogs[b2:]\n",
    "print(\"Train set contains {} dialogs.\".format(len(train_dialogs)))\n",
    "print(\"Valid set contains {} dialogs.\".format(len(valid_dialogs)))\n",
    "print(\"Test set contains {} dialogs.\".format(len(test_dialogs)))"
   ]
  },
  {
   "cell_type": "code",
   "execution_count": 11,
   "metadata": {},
   "outputs": [],
   "source": [
    "train_dataset = dataset[dataset.dialog.isin(train_dialogs)]\n",
    "valid_dataset = dataset[dataset.dialog.isin(valid_dialogs)]\n",
    "test_dataset  = dataset[dataset.dialog.isin(test_dialogs)]"
   ]
  },
  {
   "cell_type": "markdown",
   "metadata": {},
   "source": [
    "compute the frequencies based on the train set"
   ]
  },
  {
   "cell_type": "code",
   "execution_count": 12,
   "metadata": {},
   "outputs": [],
   "source": [
    "pd.options.mode.chained_assignment = None  # default='warn'\n",
    "for name in names:\n",
    "    freq = len(train_dataset[train_dataset[\"speaker\"] == name]) / len(train_dataset.index)\n",
    "    train_dataset[\"character_freq_\" + name] = freq\n",
    "    valid_dataset[\"character_freq_\" + name] = freq\n",
    "    test_dataset[\"character_freq_\" + name]  = freq"
   ]
  },
  {
   "cell_type": "markdown",
   "metadata": {},
   "source": [
    "### Step 4: Training"
   ]
  },
  {
   "cell_type": "code",
   "execution_count": null,
   "metadata": {
    "collapsed": true
   },
   "outputs": [],
   "source": []
  },
  {
   "cell_type": "markdown",
   "metadata": {},
   "source": [
    "### Step 5: Results"
   ]
  },
  {
   "cell_type": "code",
   "execution_count": null,
   "metadata": {
    "collapsed": true
   },
   "outputs": [],
   "source": []
  }
 ],
 "metadata": {
  "anaconda-cloud": {},
  "kernelspec": {
   "display_name": "Python 3",
   "language": "python",
   "name": "python3"
  },
  "language_info": {
   "codemirror_mode": {
    "name": "ipython",
    "version": 3
   },
   "file_extension": ".py",
   "mimetype": "text/x-python",
   "name": "python",
   "nbconvert_exporter": "python",
   "pygments_lexer": "ipython3",
   "version": "3.6.1"
  }
 },
 "nbformat": 4,
 "nbformat_minor": 2
}

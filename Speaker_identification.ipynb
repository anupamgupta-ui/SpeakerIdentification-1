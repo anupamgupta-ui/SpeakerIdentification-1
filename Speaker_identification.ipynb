{
 "cells": [
  {
   "cell_type": "markdown",
   "metadata": {},
   "source": [
    "### Step 0: Initialize knowledge about the characters"
   ]
  },
  {
   "cell_type": "code",
   "execution_count": 1,
   "metadata": {
    "collapsed": true
   },
   "outputs": [],
   "source": [
    "from src.character import characters"
   ]
  },
  {
   "cell_type": "code",
   "execution_count": 3,
   "metadata": {
    "collapsed": false
   },
   "outputs": [],
   "source": [
    "import re\n",
    "import nltk\n",
    "from nltk.parse import stanford\n",
    "\n",
    "# Add the jar and model via their path (instead of setting environment variables):\n",
    "#jar = '.\\stanford-parser-full-2015-01-30\\stanford-parser.jar'\n",
    "#model = '.\\stanford-parser-full-2015-01-30\\stanford-parser.jar'\n",
    "\n",
    "jar = '.\\stanford-parser-full-2017-06-09\\stanford-parser-3.8.0.jar'\n",
    "model = '.\\stanford-parser-full-2017-06-09\\stanford-parser-3.8.0.jar'\n",
    "\n",
    "#parser = stanford.StanfordParser(model, jar, model_path='edu/stanford/nlp/models/lexparser/englishPCFG.ser.gz', encoding='utf8')\n",
    "#dep_parser = stanford.StanfordDependencyParser(model, jar, model_path='edu/stanford/nlp/models/lexparser/englishPCFG.ser.gz', encoding='utf8')\n"
   ]
  },
  {
   "cell_type": "code",
   "execution_count": 4,
   "metadata": {
    "collapsed": true
   },
   "outputs": [],
   "source": [
    "from src.curation import curation\n",
    "curation(characters)"
   ]
  },
  {
   "cell_type": "markdown",
   "metadata": {
    "collapsed": true
   },
   "source": [
    "### Step 1: extracting dialogs and explicit speakers from raw text (deterministic method)"
   ]
  },
  {
   "cell_type": "code",
   "execution_count": 4,
   "metadata": {
    "collapsed": true
   },
   "outputs": [
    {
     "name": "stdout",
     "output_type": "stream",
     "text": [
      "\n",
      "``Why will you think so?  It must be his own doing. -- He is his own master.  But you do not know _all_.  I _will_ read you the passage which particularly hurts me.  I will have no reserves from _you_. [X] Darcy is impatient to see his sister, and to confess the truth, we are scarcely less eager to meet her again.  I really do not think Georgiana Darcy has her equal for beauty, elegance, and accomplishments; and the affection she inspires in Louisa and myself is heightened into something still more interesting, from the hope we dare to entertain of her being hereafter our sister.  I do not know whether I ever before mentioned to you my feelings on this subject, but I will not leave the country without confiding them, and I trust you will not esteem them unreasonable.  My brother admires her greatly already, he will have frequent opportunity now of seeing her on the most intimate footing, her relations all wish the connection as much as his own, and a sister's partiality is not misleading me, I think, when I call Charles most capable of engaging any woman's heart.  With all these circumstances to favour an attachment and nothing to prevent it, am I wrong, my dearest Jane, in indulging the hope of an event which will secure the happiness of so many?''\n",
      "\n",
      "\n",
      "``I do not see what right Darcy had to decide on the propriety of his friend's inclination, or why, upon his own judgment alone, he was to determine and direct in what manner that friend was to be happy. [X] But, [X] as we know none of the particulars, it is not fair to condemn him.  It is not to be supposed that there was much affection in the case.''\n",
      "\n",
      "\n",
      "``Something very much to the purpose of course.  He begins with congratulations on the approaching nuptials of my eldest daughter, of which, it seems, he has been told by some of the good-natured, gossiping Lucases.  I shall not sport with your impatience, by reading what he says on that point.  What relates to yourself, is as follows. [X] Having thus offered you the sincere congratulations of Charlotte and myself on this happy event, let me now add a short hint on the subject of another; of which we have been advertised by the same authority.  Your daughter Elizabeth, it is presumed, will not long bear the name of Bennet, after her elder sister has resigned it, and the chosen partner of her fate may be reasonably looked up to as one of the most illustrious personages in this land.''\n",
      "\n",
      "\n",
      "``Can you possibly guess, Elizabeth, who is meant by this? [X] This young gentleman is blessed, in a peculiar way, with every thing the heart of mortal can most desire, -- splendid property, noble kindred, and extensive patronage.  Yet in spite of all these temptations, let me warn my cousin Elizabeth, and yourself, of what evils you may incur by a precipitate closure with this gentleman's proposals, which, of course, you will be inclined to take immediate advantage of.''\n",
      "\n",
      "\n",
      "``After mentioning the likelihood of this marriage to her ladyship last night, she immediately, with her usual condescension, expressed what she felt on the occasion; when it become apparent, that on the score of some family objections on the part of my cousin, she would never give her consent to what she termed so disgraceful a match.  I thought it my duty to give the speediest intelligence of this to my cousin, that she and her noble admirer may be aware of what they are about, and not run hastily into a marriage which has not been properly sanctioned. [X] MrCollins moreover adds, [X] I am truly rejoiced that my cousin Lydia's sad business has been so well hushed up, and am only concerned that their living together before the marriage took place should be so generally known. I must not, however, neglect the duties of my station, or refrain from declaring my amazement at hearing that you received the young couple into your house as soon as they were married.  It was an encouragement of vice; and had I been the rector of Longbourn, I should very strenuously have opposed it. You ought certainly to forgive them as a Christian, but never to admit them in your sight, or allow their names to be mentioned in your hearing. [X] _That_ is his notion of Christian forgiveness!  The rest of his letter is only about his dear Charlotte's situation, and his expectation of a young olive-branch.  But, Elizabeth, you look as if you did not enjoy it. You are not going to be _Missish_, I hope, and pretend to be affronted at an idle report.  For what do we live, but to make sport for our neighbours, and laugh at them in our turn?''\n",
      "\n"
     ]
    }
   ],
   "source": [
    "from src.explicit import get_annotated_lines\n",
    "\n",
    "annotated_lines = get_annotated_lines(parser=parser, dep_parser=dep_parser)"
   ]
  },
  {
   "cell_type": "markdown",
   "metadata": {},
   "source": [
    "### Step 1 bis: import pre parsed data"
   ]
  },
  {
   "cell_type": "code",
   "execution_count": 27,
   "metadata": {
    "collapsed": false
   },
   "outputs": [
    {
     "data": {
      "text/plain": [
       "{'only_utterance_article': 'My dear Bennet, [X] have you heard that Netherfield Park is let at last?',\n",
       " 'only_utterance_us': 'My dear Bennet, [X] have you heard that Netherfield Park is let at last?',\n",
       " 'parts': [{'text': 'My dear Bennet,', 'utterance': True},\n",
       "  {'speaker_gender': 'F',\n",
       "   'speaker_name': None,\n",
       "   'text': ' said his lady to him one day, ',\n",
       "   'utterance': False},\n",
       "  {'text': 'have you heard that Netherfield Park is let at last?',\n",
       "   'utterance': True}],\n",
       " 'source': \"``My dear Bennet,'' said his lady to him one day, ``have you heard that Netherfield Park is let at last?''\",\n",
       " 'target': 'MrsBennet'}"
      ]
     },
     "execution_count": 27,
     "metadata": {},
     "output_type": "execute_result"
    }
   ],
   "source": [
    "import pickle\n",
    "\n",
    "with open(\"corpus/dataset.pkl\", 'rb') as file:\n",
    "    annotated_lines = pickle.load(file)\n",
    "    \n",
    "annotated_lines[0]"
   ]
  },
  {
   "cell_type": "markdown",
   "metadata": {},
   "source": [
    "### Step 2: extracting features"
   ]
  },
  {
   "cell_type": "code",
   "execution_count": 69,
   "metadata": {
    "collapsed": true
   },
   "outputs": [],
   "source": [
    "import pandas as pd"
   ]
  },
  {
   "cell_type": "code",
   "execution_count": 75,
   "metadata": {
    "collapsed": true
   },
   "outputs": [],
   "source": [
    "features = [\"character_freq\", \n",
    "            \"character_dialog_mention\",\n",
    "            \"character_vocal_mention\",\n",
    "            \"character_narrator_mention\",\n",
    "            \"gender_as_supposed\",\n",
    "            \"character_spoke_last\",\n",
    "            \"character_is_target\"]\n",
    "\n",
    "columns = [\"dialog\", \"speaker\"] + [feature + \"_\" + character.name for feature in features for character in characters]"
   ]
  },
  {
   "cell_type": "code",
   "execution_count": 76,
   "metadata": {
    "collapsed": false
   },
   "outputs": [],
   "source": [
    "names = [character.name for character in characters]"
   ]
  },
  {
   "cell_type": "code",
   "execution_count": 77,
   "metadata": {
    "collapsed": true
   },
   "outputs": [],
   "source": [
    "import traceback, sys"
   ]
  },
  {
   "cell_type": "code",
   "execution_count": 78,
   "metadata": {
    "collapsed": true
   },
   "outputs": [],
   "source": [
    "def split_words(text):\n",
    "    return text.split(\" \")"
   ]
  },
  {
   "cell_type": "code",
   "execution_count": 85,
   "metadata": {
    "collapsed": false,
    "scrolled": true
   },
   "outputs": [],
   "source": [
    "dialogs = open(\"./corpus/curated_dialogs.txt\", \"r\").read().split('\\n')[:-1]\n",
    "dataset = pd.DataFrame([], columns=columns)\n",
    "\n",
    "dialog_index = 0\n",
    "line_idx = 0\n",
    "last_speaker = \"\"\n",
    "for count, (phrase, annotated_line) in enumerate(zip(dialogs, annotated_lines)):\n",
    "    try:\n",
    "        dialog, speaker, text = phrase.split(\"\\t\")\n",
    "\n",
    "        if int(dialog) > dialog_index:\n",
    "            character_dialog_mentions = {name: False for name in names}\n",
    "            dialog_index = int(dialog)\n",
    "        \n",
    "        line = {\"dialog\": int(dialog), \"speaker\": speaker}\n",
    "        vocal_mentions = set(names).intersection(set(split_words(text)))\n",
    "        \n",
    "        words = set([word for part in annotated_line['parts'] for word in\n",
    "                     split_words(part['text']) if not part['utterance']])\n",
    "        narrator_mentions = set(names).intersection(words)\n",
    "            \n",
    "        for idx, character in enumerate(characters):\n",
    "            line[\"character_freq_\" + character.name] = 0.0\n",
    "            \n",
    "            line[\"character_vocal_mention_\" + character.name] = character.name in vocal_mentions\n",
    "            line[\"character_narrator_mention_\" + character.name] = character.name in narrator_mentions\n",
    "            line[\"character_dialog_mention_\" + character.name] = character_dialog_mentions[character.name]\n",
    "                \n",
    "            character_dialog_mentions[character.name] = character_dialog_mentions[character.name] or\\\n",
    "                                                        character.name in vocal_mentions          or\\\n",
    "                                                        character.name in narrator_mentions\n",
    "            supposed_gender = None\n",
    "            for part in annotated_line[\"parts\"]:\n",
    "                if(\"speaker_gender\" in part and part[\"speaker_gender\"] is not None):\n",
    "                    supposed_gender = part[\"speaker_gender\"]\n",
    "            \n",
    "            if(supposed_gender is None):\n",
    "                gender_as_supposed = 0.5\n",
    "            elif(supposed_gender == character.gender):\n",
    "                gender_as_supposed = 1\n",
    "            else:\n",
    "                gender_as_supposed = 0\n",
    "            line[\"gender_as_supposed_\" + character.name] = gender_as_supposed\n",
    "                \n",
    "            line[\"character_spoke_last_\" + character.name] = True if last_speaker == character.name else False\n",
    "            \n",
    "            if(annotated_line[\"target\"] is not None and annotated_line[\"target\"] == character.name):\n",
    "                character_is_target = True\n",
    "            else:\n",
    "                character_is_target = False\n",
    "            line[\"character_is_target_\" + character.name] = character_is_target\n",
    "        \n",
    "        dataset.loc[line_idx] = line\n",
    "        line_idx += 1\n",
    "    except Exception as e:\n",
    "        print(traceback.format_exception(None, # <- type(e) by docs, but ignored \n",
    "                                     e, e.__traceback__),\n",
    "          file=sys.stderr, flush=True)\n",
    "        print(\"line {}, caused a problem: {}\".format(count, e))\n",
    "dataset[\"dialog\"] = dataset.dialog.astype(int)"
   ]
  },
  {
   "cell_type": "code",
   "execution_count": 87,
   "metadata": {
    "collapsed": false,
    "scrolled": true
   },
   "outputs": [
    {
     "data": {
      "text/html": [
       "<div>\n",
       "<table border=\"1\" class=\"dataframe\">\n",
       "  <thead>\n",
       "    <tr style=\"text-align: right;\">\n",
       "      <th></th>\n",
       "      <th>dialog</th>\n",
       "      <th>speaker</th>\n",
       "      <th>character_freq_MrsBennet</th>\n",
       "      <th>character_freq_Charlotte</th>\n",
       "      <th>character_freq_MrCollins</th>\n",
       "      <th>character_freq_Mary</th>\n",
       "      <th>character_freq_Lydia</th>\n",
       "      <th>character_freq_MissBingley</th>\n",
       "      <th>character_freq_Bingley</th>\n",
       "      <th>character_freq_Darcy</th>\n",
       "      <th>...</th>\n",
       "      <th>character_is_target_MrCollins</th>\n",
       "      <th>character_is_target_Mary</th>\n",
       "      <th>character_is_target_Lydia</th>\n",
       "      <th>character_is_target_MissBingley</th>\n",
       "      <th>character_is_target_Bingley</th>\n",
       "      <th>character_is_target_Darcy</th>\n",
       "      <th>character_is_target_Kitty</th>\n",
       "      <th>character_is_target_Jane</th>\n",
       "      <th>character_is_target_Bennet</th>\n",
       "      <th>character_is_target_Elizabeth</th>\n",
       "    </tr>\n",
       "  </thead>\n",
       "  <tbody>\n",
       "    <tr>\n",
       "      <th>0</th>\n",
       "      <td>1</td>\n",
       "      <td>MrsBennet</td>\n",
       "      <td>0.109737</td>\n",
       "      <td>0.017002</td>\n",
       "      <td>0.030139</td>\n",
       "      <td>0.00541</td>\n",
       "      <td>0.027048</td>\n",
       "      <td>0.042504</td>\n",
       "      <td>0.027048</td>\n",
       "      <td>0.099691</td>\n",
       "      <td>...</td>\n",
       "      <td>False</td>\n",
       "      <td>False</td>\n",
       "      <td>False</td>\n",
       "      <td>False</td>\n",
       "      <td>False</td>\n",
       "      <td>False</td>\n",
       "      <td>False</td>\n",
       "      <td>False</td>\n",
       "      <td>False</td>\n",
       "      <td>False</td>\n",
       "    </tr>\n",
       "    <tr>\n",
       "      <th>1</th>\n",
       "      <td>1</td>\n",
       "      <td>MrsBennet</td>\n",
       "      <td>0.109737</td>\n",
       "      <td>0.017002</td>\n",
       "      <td>0.030139</td>\n",
       "      <td>0.00541</td>\n",
       "      <td>0.027048</td>\n",
       "      <td>0.042504</td>\n",
       "      <td>0.027048</td>\n",
       "      <td>0.099691</td>\n",
       "      <td>...</td>\n",
       "      <td>False</td>\n",
       "      <td>False</td>\n",
       "      <td>False</td>\n",
       "      <td>False</td>\n",
       "      <td>False</td>\n",
       "      <td>False</td>\n",
       "      <td>False</td>\n",
       "      <td>False</td>\n",
       "      <td>False</td>\n",
       "      <td>False</td>\n",
       "    </tr>\n",
       "    <tr>\n",
       "      <th>2</th>\n",
       "      <td>1</td>\n",
       "      <td>MrsBennet</td>\n",
       "      <td>0.109737</td>\n",
       "      <td>0.017002</td>\n",
       "      <td>0.030139</td>\n",
       "      <td>0.00541</td>\n",
       "      <td>0.027048</td>\n",
       "      <td>0.042504</td>\n",
       "      <td>0.027048</td>\n",
       "      <td>0.099691</td>\n",
       "      <td>...</td>\n",
       "      <td>False</td>\n",
       "      <td>False</td>\n",
       "      <td>False</td>\n",
       "      <td>False</td>\n",
       "      <td>False</td>\n",
       "      <td>False</td>\n",
       "      <td>False</td>\n",
       "      <td>False</td>\n",
       "      <td>False</td>\n",
       "      <td>False</td>\n",
       "    </tr>\n",
       "    <tr>\n",
       "      <th>3</th>\n",
       "      <td>1</td>\n",
       "      <td>Bennet</td>\n",
       "      <td>0.109737</td>\n",
       "      <td>0.017002</td>\n",
       "      <td>0.030139</td>\n",
       "      <td>0.00541</td>\n",
       "      <td>0.027048</td>\n",
       "      <td>0.042504</td>\n",
       "      <td>0.027048</td>\n",
       "      <td>0.099691</td>\n",
       "      <td>...</td>\n",
       "      <td>False</td>\n",
       "      <td>False</td>\n",
       "      <td>False</td>\n",
       "      <td>False</td>\n",
       "      <td>False</td>\n",
       "      <td>False</td>\n",
       "      <td>False</td>\n",
       "      <td>False</td>\n",
       "      <td>True</td>\n",
       "      <td>False</td>\n",
       "    </tr>\n",
       "    <tr>\n",
       "      <th>4</th>\n",
       "      <td>1</td>\n",
       "      <td>MrsBennet</td>\n",
       "      <td>0.109737</td>\n",
       "      <td>0.017002</td>\n",
       "      <td>0.030139</td>\n",
       "      <td>0.00541</td>\n",
       "      <td>0.027048</td>\n",
       "      <td>0.042504</td>\n",
       "      <td>0.027048</td>\n",
       "      <td>0.099691</td>\n",
       "      <td>...</td>\n",
       "      <td>False</td>\n",
       "      <td>False</td>\n",
       "      <td>False</td>\n",
       "      <td>False</td>\n",
       "      <td>False</td>\n",
       "      <td>False</td>\n",
       "      <td>False</td>\n",
       "      <td>False</td>\n",
       "      <td>False</td>\n",
       "      <td>False</td>\n",
       "    </tr>\n",
       "  </tbody>\n",
       "</table>\n",
       "<p>5 rows × 86 columns</p>\n",
       "</div>"
      ],
      "text/plain": [
       "   dialog    speaker  character_freq_MrsBennet  character_freq_Charlotte  \\\n",
       "0       1  MrsBennet                  0.109737                  0.017002   \n",
       "1       1  MrsBennet                  0.109737                  0.017002   \n",
       "2       1  MrsBennet                  0.109737                  0.017002   \n",
       "3       1     Bennet                  0.109737                  0.017002   \n",
       "4       1  MrsBennet                  0.109737                  0.017002   \n",
       "\n",
       "   character_freq_MrCollins  character_freq_Mary  character_freq_Lydia  \\\n",
       "0                  0.030139              0.00541              0.027048   \n",
       "1                  0.030139              0.00541              0.027048   \n",
       "2                  0.030139              0.00541              0.027048   \n",
       "3                  0.030139              0.00541              0.027048   \n",
       "4                  0.030139              0.00541              0.027048   \n",
       "\n",
       "   character_freq_MissBingley  character_freq_Bingley  character_freq_Darcy  \\\n",
       "0                    0.042504                0.027048              0.099691   \n",
       "1                    0.042504                0.027048              0.099691   \n",
       "2                    0.042504                0.027048              0.099691   \n",
       "3                    0.042504                0.027048              0.099691   \n",
       "4                    0.042504                0.027048              0.099691   \n",
       "\n",
       "               ...               character_is_target_MrCollins  \\\n",
       "0              ...                                       False   \n",
       "1              ...                                       False   \n",
       "2              ...                                       False   \n",
       "3              ...                                       False   \n",
       "4              ...                                       False   \n",
       "\n",
       "   character_is_target_Mary  character_is_target_Lydia  \\\n",
       "0                     False                      False   \n",
       "1                     False                      False   \n",
       "2                     False                      False   \n",
       "3                     False                      False   \n",
       "4                     False                      False   \n",
       "\n",
       "   character_is_target_MissBingley character_is_target_Bingley  \\\n",
       "0                            False                       False   \n",
       "1                            False                       False   \n",
       "2                            False                       False   \n",
       "3                            False                       False   \n",
       "4                            False                       False   \n",
       "\n",
       "  character_is_target_Darcy character_is_target_Kitty  \\\n",
       "0                     False                     False   \n",
       "1                     False                     False   \n",
       "2                     False                     False   \n",
       "3                     False                     False   \n",
       "4                     False                     False   \n",
       "\n",
       "  character_is_target_Jane character_is_target_Bennet  \\\n",
       "0                    False                      False   \n",
       "1                    False                      False   \n",
       "2                    False                      False   \n",
       "3                    False                       True   \n",
       "4                    False                      False   \n",
       "\n",
       "  character_is_target_Elizabeth  \n",
       "0                         False  \n",
       "1                         False  \n",
       "2                         False  \n",
       "3                         False  \n",
       "4                         False  \n",
       "\n",
       "[5 rows x 86 columns]"
      ]
     },
     "execution_count": 87,
     "metadata": {},
     "output_type": "execute_result"
    }
   ],
   "source": [
    "dataset.head()"
   ]
  },
  {
   "cell_type": "markdown",
   "metadata": {},
   "source": [
    "### Step 3: Train Valid Test split"
   ]
  },
  {
   "cell_type": "code",
   "execution_count": 106,
   "metadata": {
    "collapsed": false
   },
   "outputs": [],
   "source": [
    "import numpy as np\n",
    "np.random.seed(9295)\n",
    "dialogs = np.arange(dataset.dialog.max())\n",
    "np.random.shuffle(dialogs)"
   ]
  },
  {
   "cell_type": "code",
   "execution_count": 107,
   "metadata": {
    "collapsed": true
   },
   "outputs": [],
   "source": [
    "b1 = len(dialogs) * 8 // 10\n",
    "b2 = len(dialogs) * 9 // 10\n",
    "train_dialogs = dialogs[:b1]\n",
    "valid_dialogs = dialogs[b1:b2]\n",
    "test_dialogs  = dialogs[b2:]"
   ]
  },
  {
   "cell_type": "code",
   "execution_count": 111,
   "metadata": {
    "collapsed": false
   },
   "outputs": [],
   "source": [
    "train_dataset = dataset[dataset.dialog.isin(train_dialogs)]\n",
    "valid_dataset = dataset[dataset.dialog.isin(valid_dialogs)]\n",
    "test_dataset  = dataset[dataset.dialog.isin(test_dialogs)]"
   ]
  },
  {
   "cell_type": "markdown",
   "metadata": {},
   "source": [
    "compute the frequencies based on the train set"
   ]
  },
  {
   "cell_type": "code",
   "execution_count": 114,
   "metadata": {
    "collapsed": false
   },
   "outputs": [],
   "source": [
    "pd.options.mode.chained_assignment = None  # default='warn'\n",
    "for name in names:\n",
    "    freq = len(train_dataset[train_dataset[\"speaker\"] == name]) / len(train_dataset.index)\n",
    "    train_dataset[\"character_freq_\" + name] = freq\n",
    "    valid_dataset[\"character_freq_\" + name] = freq\n",
    "    test_dataset[\"character_freq_\" + name]  = freq"
   ]
  }
 ],
 "metadata": {
  "anaconda-cloud": {},
  "kernelspec": {
   "display_name": "Python [default]",
   "language": "python",
   "name": "python3"
  },
  "language_info": {
   "codemirror_mode": {
    "name": "ipython",
    "version": 3
   },
   "file_extension": ".py",
   "mimetype": "text/x-python",
   "name": "python",
   "nbconvert_exporter": "python",
   "pygments_lexer": "ipython3",
   "version": "3.5.2"
  }
 },
 "nbformat": 4,
 "nbformat_minor": 2
}
